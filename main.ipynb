{
 "cells": [
  {
   "cell_type": "markdown",
   "metadata": {},
   "source": [
    "# Solar Energy Consumption and Production Analysis\n",
    "This notebook analyzes solar energy consumption and production. It calculates various metrics, including PV production, unmet demand, and performance indicators, under different conditions (e.g., number of panels and batteries).\n",
    "\n",
    "## 1. Importing Modules and Setting Up Environment\n",
    "In this step, we import necessary modules, set up the working directory, and load the custom script for analysis functions."
   ]
  },
  {
   "cell_type": "code",
   "execution_count": 9,
   "metadata": {},
   "outputs": [],
   "source": [
    "# Import necessary modules and custom script\n",
    "import os\n",
    "import sys\n",
    "import plotly.graph_objects as go\n",
    "import pandas as pd\n",
    "import numpy as np\n",
    "import ipywidgets as widgets\n",
    "from IPython.display import display, clear_output\n",
    "import solar_analysis_script as sas\n",
    "\n",
    "# Set the directory explicitly if needed\n",
    "#s.chdir(r\"....\\Milestone1 code\")\n",
    "\n",
    "# Add the current directory to sys.path so Python knows where to find the module\n",
    "#sys.path.append(r\"....\\Milestone1 code\")\n"
   ]
  },
  {
   "cell_type": "markdown",
   "metadata": {},
   "source": [
    "## 2. Loading Data and Setting Parameters\n",
    "We load the building consumption data, set parameters like the panel and battery options, and configure widgets for user interaction.\n"
   ]
  },
  {
   "cell_type": "code",
   "execution_count": 10,
   "metadata": {},
   "outputs": [
    {
     "name": "stdout",
     "output_type": "stream",
     "text": [
      "Loading data from file:  Ense3buildingconsumption.csv\n",
      "Data successfully loaded and filtered.\n"
     ]
    },
    {
     "name": "stderr",
     "output_type": "stream",
     "text": [
      "f:\\Master Study\\Study Material\\M2 FME Data\\Arbaz Data\\Green\\Codes for project-20241121T133218Z-001\\Codes for project\\Milestone1 code\\solar_analysis_script.py:39: SettingWithCopyWarning:\n",
      "\n",
      "\n",
      "A value is trying to be set on a copy of a slice from a DataFrame.\n",
      "Try using .loc[row_indexer,col_indexer] = value instead\n",
      "\n",
      "See the caveats in the documentation: https://pandas.pydata.org/pandas-docs/stable/user_guide/indexing.html#returning-a-view-versus-a-copy\n",
      "\n",
      "f:\\Master Study\\Study Material\\M2 FME Data\\Arbaz Data\\Green\\Codes for project-20241121T133218Z-001\\Codes for project\\Milestone1 code\\solar_analysis_script.py:48: SettingWithCopyWarning:\n",
      "\n",
      "\n",
      "A value is trying to be set on a copy of a slice from a DataFrame\n",
      "\n",
      "See the caveats in the documentation: https://pandas.pydata.org/pandas-docs/stable/user_guide/indexing.html#returning-a-view-versus-a-copy\n",
      "\n"
     ]
    }
   ],
   "source": [
    "# Define parameters\n",
    "file_path = \"Ense3buildingconsumption.csv\"\n",
    "start_date = '2023-09-25 00:00:00'\n",
    "end_date = '2024-09-25 00:00:00'\n",
    "\n",
    "# Load and filter data using the functions from the custom script\n",
    "filtered_data = sas.load_data(file_path, start_date, end_date)\n",
    "\n",
    "# Panel and Battery options\n",
    "panel_options = [500, 600, 700, 800, 900]\n"
   ]
  },
  {
   "cell_type": "markdown",
   "metadata": {},
   "source": [
    "## 3. Widgets for User Interaction\n",
    "We create interactive sliders and dropdowns for selecting the number of panels, batteries, and the specific month for which analysis is conducted.\n"
   ]
  },
  {
   "cell_type": "code",
   "execution_count": null,
   "metadata": {},
   "outputs": [
    {
     "data": {
      "application/vnd.jupyter.widget-view+json": {
       "model_id": "5d88141af7e54a81b4e143190867cf1f",
       "version_major": 2,
       "version_minor": 0
      },
      "text/plain": [
       "IntSlider(value=500, continuous_update=False, description='Num Panels:', max=1500, min=500, step=100, style=Sl…"
      ]
     },
     "metadata": {},
     "output_type": "display_data"
    },
    {
     "data": {
      "application/vnd.jupyter.widget-view+json": {
       "model_id": "b959b3b93b594887b03000025ace7045",
       "version_major": 2,
       "version_minor": 0
      },
      "text/plain": [
       "IntSlider(value=0, continuous_update=False, description='Num Batteries:', style=SliderStyle(description_width=…"
      ]
     },
     "metadata": {},
     "output_type": "display_data"
    },
    {
     "data": {
      "application/vnd.jupyter.widget-view+json": {
       "model_id": "66f4df9154224ccabb5e3ebd6341067c",
       "version_major": 2,
       "version_minor": 0
      },
      "text/plain": [
       "Dropdown(description='Month:', options=(('January', 1), ('February', 2), ('March', 3), ('April', 4), ('May', 5…"
      ]
     },
     "metadata": {},
     "output_type": "display_data"
    },
    {
     "data": {
      "application/vnd.jupyter.widget-view+json": {
       "model_id": "83dc18a9b7c74575ace230105a61b031",
       "version_major": 2,
       "version_minor": 0
      },
      "text/plain": [
       "Output()"
      ]
     },
     "metadata": {},
     "output_type": "display_data"
    },
    {
     "data": {
      "application/vnd.plotly.v1+json": {
       "config": {
        "plotlyServerURL": "https://plot.ly"
       },
       "data": [
        {
         "marker": {
          "color": "orange"
         },
         "name": "Solar PV Production (kW)",
         "type": "bar",
         "x": [
          0,
          1,
          2,
          3,
          4,
          5,
          6,
          7,
          8,
          9,
          10,
          11,
          12,
          13,
          14,
          15,
          16,
          17,
          18,
          19,
          20,
          21,
          22,
          23
         ],
         "y": [
          0,
          0,
          0,
          0,
          0,
          0,
          15.485788763623233,
          28.532216732550086,
          47.04167262718146,
          69.40249024749424,
          91.62466712411127,
          108.24175458241747,
          114.42536191060198,
          108.24175458241747,
          91.62466712411127,
          69.40249024749424,
          47.04167262718146,
          28.532216732550086,
          15.485788763623233,
          0,
          0,
          0,
          0,
          0
         ]
        },
        {
         "marker": {
          "color": "red"
         },
         "name": "Unmet Demand (kW)",
         "type": "bar",
         "x": [
          0,
          1,
          2,
          3,
          4,
          5,
          6,
          7,
          8,
          9,
          10,
          11,
          12,
          13,
          14,
          15,
          16,
          17,
          18,
          19,
          20,
          21,
          22,
          23
         ],
         "y": [
          111,
          113,
          110,
          111,
          126,
          161,
          238.51421123637675,
          278.46778326744993,
          263.95832737281853,
          261.59750975250574,
          241.37533287588872,
          238.75824541758254,
          205.57463808939804,
          203.75824541758254,
          208.37533287588872,
          212.59750975250574,
          238.95832737281853,
          216.4677832674499,
          195.51421123637675,
          121,
          123,
          108,
          108,
          107
         ]
        },
        {
         "marker": {
          "color": "cyan"
         },
         "name": "Excess Energy (kW)",
         "type": "bar",
         "x": [
          0,
          1,
          2,
          3,
          4,
          5,
          6,
          7,
          8,
          9,
          10,
          11,
          12,
          13,
          14,
          15,
          16,
          17,
          18,
          19,
          20,
          21,
          22,
          23
         ],
         "y": [
          0,
          0,
          0,
          0,
          0,
          0,
          0,
          0,
          0,
          0,
          0,
          0,
          0,
          0,
          0,
          0,
          0,
          0,
          0,
          0,
          0,
          0,
          0,
          0
         ]
        },
        {
         "line": {
          "color": "blue",
          "dash": "dash"
         },
         "mode": "lines",
         "name": "Electricity Demand (kW)",
         "type": "scatter",
         "x": [
          0,
          1,
          2,
          3,
          4,
          5,
          6,
          7,
          8,
          9,
          10,
          11,
          12,
          13,
          14,
          15,
          16,
          17,
          18,
          19,
          20,
          21,
          22,
          23
         ],
         "y": [
          111,
          113,
          110,
          111,
          126,
          161,
          254,
          307,
          311,
          331,
          333,
          347,
          320,
          312,
          300,
          282,
          286,
          245,
          211,
          121,
          123,
          108,
          108,
          107
         ]
        }
       ],
       "layout": {
        "barmode": "relative",
        "template": {
         "data": {
          "bar": [
           {
            "error_x": {
             "color": "#2a3f5f"
            },
            "error_y": {
             "color": "#2a3f5f"
            },
            "marker": {
             "line": {
              "color": "white",
              "width": 0.5
             },
             "pattern": {
              "fillmode": "overlay",
              "size": 10,
              "solidity": 0.2
             }
            },
            "type": "bar"
           }
          ],
          "barpolar": [
           {
            "marker": {
             "line": {
              "color": "white",
              "width": 0.5
             },
             "pattern": {
              "fillmode": "overlay",
              "size": 10,
              "solidity": 0.2
             }
            },
            "type": "barpolar"
           }
          ],
          "carpet": [
           {
            "aaxis": {
             "endlinecolor": "#2a3f5f",
             "gridcolor": "#C8D4E3",
             "linecolor": "#C8D4E3",
             "minorgridcolor": "#C8D4E3",
             "startlinecolor": "#2a3f5f"
            },
            "baxis": {
             "endlinecolor": "#2a3f5f",
             "gridcolor": "#C8D4E3",
             "linecolor": "#C8D4E3",
             "minorgridcolor": "#C8D4E3",
             "startlinecolor": "#2a3f5f"
            },
            "type": "carpet"
           }
          ],
          "choropleth": [
           {
            "colorbar": {
             "outlinewidth": 0,
             "ticks": ""
            },
            "type": "choropleth"
           }
          ],
          "contour": [
           {
            "colorbar": {
             "outlinewidth": 0,
             "ticks": ""
            },
            "colorscale": [
             [
              0,
              "#0d0887"
             ],
             [
              0.1111111111111111,
              "#46039f"
             ],
             [
              0.2222222222222222,
              "#7201a8"
             ],
             [
              0.3333333333333333,
              "#9c179e"
             ],
             [
              0.4444444444444444,
              "#bd3786"
             ],
             [
              0.5555555555555556,
              "#d8576b"
             ],
             [
              0.6666666666666666,
              "#ed7953"
             ],
             [
              0.7777777777777778,
              "#fb9f3a"
             ],
             [
              0.8888888888888888,
              "#fdca26"
             ],
             [
              1,
              "#f0f921"
             ]
            ],
            "type": "contour"
           }
          ],
          "contourcarpet": [
           {
            "colorbar": {
             "outlinewidth": 0,
             "ticks": ""
            },
            "type": "contourcarpet"
           }
          ],
          "heatmap": [
           {
            "colorbar": {
             "outlinewidth": 0,
             "ticks": ""
            },
            "colorscale": [
             [
              0,
              "#0d0887"
             ],
             [
              0.1111111111111111,
              "#46039f"
             ],
             [
              0.2222222222222222,
              "#7201a8"
             ],
             [
              0.3333333333333333,
              "#9c179e"
             ],
             [
              0.4444444444444444,
              "#bd3786"
             ],
             [
              0.5555555555555556,
              "#d8576b"
             ],
             [
              0.6666666666666666,
              "#ed7953"
             ],
             [
              0.7777777777777778,
              "#fb9f3a"
             ],
             [
              0.8888888888888888,
              "#fdca26"
             ],
             [
              1,
              "#f0f921"
             ]
            ],
            "type": "heatmap"
           }
          ],
          "heatmapgl": [
           {
            "colorbar": {
             "outlinewidth": 0,
             "ticks": ""
            },
            "colorscale": [
             [
              0,
              "#0d0887"
             ],
             [
              0.1111111111111111,
              "#46039f"
             ],
             [
              0.2222222222222222,
              "#7201a8"
             ],
             [
              0.3333333333333333,
              "#9c179e"
             ],
             [
              0.4444444444444444,
              "#bd3786"
             ],
             [
              0.5555555555555556,
              "#d8576b"
             ],
             [
              0.6666666666666666,
              "#ed7953"
             ],
             [
              0.7777777777777778,
              "#fb9f3a"
             ],
             [
              0.8888888888888888,
              "#fdca26"
             ],
             [
              1,
              "#f0f921"
             ]
            ],
            "type": "heatmapgl"
           }
          ],
          "histogram": [
           {
            "marker": {
             "pattern": {
              "fillmode": "overlay",
              "size": 10,
              "solidity": 0.2
             }
            },
            "type": "histogram"
           }
          ],
          "histogram2d": [
           {
            "colorbar": {
             "outlinewidth": 0,
             "ticks": ""
            },
            "colorscale": [
             [
              0,
              "#0d0887"
             ],
             [
              0.1111111111111111,
              "#46039f"
             ],
             [
              0.2222222222222222,
              "#7201a8"
             ],
             [
              0.3333333333333333,
              "#9c179e"
             ],
             [
              0.4444444444444444,
              "#bd3786"
             ],
             [
              0.5555555555555556,
              "#d8576b"
             ],
             [
              0.6666666666666666,
              "#ed7953"
             ],
             [
              0.7777777777777778,
              "#fb9f3a"
             ],
             [
              0.8888888888888888,
              "#fdca26"
             ],
             [
              1,
              "#f0f921"
             ]
            ],
            "type": "histogram2d"
           }
          ],
          "histogram2dcontour": [
           {
            "colorbar": {
             "outlinewidth": 0,
             "ticks": ""
            },
            "colorscale": [
             [
              0,
              "#0d0887"
             ],
             [
              0.1111111111111111,
              "#46039f"
             ],
             [
              0.2222222222222222,
              "#7201a8"
             ],
             [
              0.3333333333333333,
              "#9c179e"
             ],
             [
              0.4444444444444444,
              "#bd3786"
             ],
             [
              0.5555555555555556,
              "#d8576b"
             ],
             [
              0.6666666666666666,
              "#ed7953"
             ],
             [
              0.7777777777777778,
              "#fb9f3a"
             ],
             [
              0.8888888888888888,
              "#fdca26"
             ],
             [
              1,
              "#f0f921"
             ]
            ],
            "type": "histogram2dcontour"
           }
          ],
          "mesh3d": [
           {
            "colorbar": {
             "outlinewidth": 0,
             "ticks": ""
            },
            "type": "mesh3d"
           }
          ],
          "parcoords": [
           {
            "line": {
             "colorbar": {
              "outlinewidth": 0,
              "ticks": ""
             }
            },
            "type": "parcoords"
           }
          ],
          "pie": [
           {
            "automargin": true,
            "type": "pie"
           }
          ],
          "scatter": [
           {
            "fillpattern": {
             "fillmode": "overlay",
             "size": 10,
             "solidity": 0.2
            },
            "type": "scatter"
           }
          ],
          "scatter3d": [
           {
            "line": {
             "colorbar": {
              "outlinewidth": 0,
              "ticks": ""
             }
            },
            "marker": {
             "colorbar": {
              "outlinewidth": 0,
              "ticks": ""
             }
            },
            "type": "scatter3d"
           }
          ],
          "scattercarpet": [
           {
            "marker": {
             "colorbar": {
              "outlinewidth": 0,
              "ticks": ""
             }
            },
            "type": "scattercarpet"
           }
          ],
          "scattergeo": [
           {
            "marker": {
             "colorbar": {
              "outlinewidth": 0,
              "ticks": ""
             }
            },
            "type": "scattergeo"
           }
          ],
          "scattergl": [
           {
            "marker": {
             "colorbar": {
              "outlinewidth": 0,
              "ticks": ""
             }
            },
            "type": "scattergl"
           }
          ],
          "scattermapbox": [
           {
            "marker": {
             "colorbar": {
              "outlinewidth": 0,
              "ticks": ""
             }
            },
            "type": "scattermapbox"
           }
          ],
          "scatterpolar": [
           {
            "marker": {
             "colorbar": {
              "outlinewidth": 0,
              "ticks": ""
             }
            },
            "type": "scatterpolar"
           }
          ],
          "scatterpolargl": [
           {
            "marker": {
             "colorbar": {
              "outlinewidth": 0,
              "ticks": ""
             }
            },
            "type": "scatterpolargl"
           }
          ],
          "scatterternary": [
           {
            "marker": {
             "colorbar": {
              "outlinewidth": 0,
              "ticks": ""
             }
            },
            "type": "scatterternary"
           }
          ],
          "surface": [
           {
            "colorbar": {
             "outlinewidth": 0,
             "ticks": ""
            },
            "colorscale": [
             [
              0,
              "#0d0887"
             ],
             [
              0.1111111111111111,
              "#46039f"
             ],
             [
              0.2222222222222222,
              "#7201a8"
             ],
             [
              0.3333333333333333,
              "#9c179e"
             ],
             [
              0.4444444444444444,
              "#bd3786"
             ],
             [
              0.5555555555555556,
              "#d8576b"
             ],
             [
              0.6666666666666666,
              "#ed7953"
             ],
             [
              0.7777777777777778,
              "#fb9f3a"
             ],
             [
              0.8888888888888888,
              "#fdca26"
             ],
             [
              1,
              "#f0f921"
             ]
            ],
            "type": "surface"
           }
          ],
          "table": [
           {
            "cells": {
             "fill": {
              "color": "#EBF0F8"
             },
             "line": {
              "color": "white"
             }
            },
            "header": {
             "fill": {
              "color": "#C8D4E3"
             },
             "line": {
              "color": "white"
             }
            },
            "type": "table"
           }
          ]
         },
         "layout": {
          "annotationdefaults": {
           "arrowcolor": "#2a3f5f",
           "arrowhead": 0,
           "arrowwidth": 1
          },
          "autotypenumbers": "strict",
          "coloraxis": {
           "colorbar": {
            "outlinewidth": 0,
            "ticks": ""
           }
          },
          "colorscale": {
           "diverging": [
            [
             0,
             "#8e0152"
            ],
            [
             0.1,
             "#c51b7d"
            ],
            [
             0.2,
             "#de77ae"
            ],
            [
             0.3,
             "#f1b6da"
            ],
            [
             0.4,
             "#fde0ef"
            ],
            [
             0.5,
             "#f7f7f7"
            ],
            [
             0.6,
             "#e6f5d0"
            ],
            [
             0.7,
             "#b8e186"
            ],
            [
             0.8,
             "#7fbc41"
            ],
            [
             0.9,
             "#4d9221"
            ],
            [
             1,
             "#276419"
            ]
           ],
           "sequential": [
            [
             0,
             "#0d0887"
            ],
            [
             0.1111111111111111,
             "#46039f"
            ],
            [
             0.2222222222222222,
             "#7201a8"
            ],
            [
             0.3333333333333333,
             "#9c179e"
            ],
            [
             0.4444444444444444,
             "#bd3786"
            ],
            [
             0.5555555555555556,
             "#d8576b"
            ],
            [
             0.6666666666666666,
             "#ed7953"
            ],
            [
             0.7777777777777778,
             "#fb9f3a"
            ],
            [
             0.8888888888888888,
             "#fdca26"
            ],
            [
             1,
             "#f0f921"
            ]
           ],
           "sequentialminus": [
            [
             0,
             "#0d0887"
            ],
            [
             0.1111111111111111,
             "#46039f"
            ],
            [
             0.2222222222222222,
             "#7201a8"
            ],
            [
             0.3333333333333333,
             "#9c179e"
            ],
            [
             0.4444444444444444,
             "#bd3786"
            ],
            [
             0.5555555555555556,
             "#d8576b"
            ],
            [
             0.6666666666666666,
             "#ed7953"
            ],
            [
             0.7777777777777778,
             "#fb9f3a"
            ],
            [
             0.8888888888888888,
             "#fdca26"
            ],
            [
             1,
             "#f0f921"
            ]
           ]
          },
          "colorway": [
           "#636efa",
           "#EF553B",
           "#00cc96",
           "#ab63fa",
           "#FFA15A",
           "#19d3f3",
           "#FF6692",
           "#B6E880",
           "#FF97FF",
           "#FECB52"
          ],
          "font": {
           "color": "#2a3f5f"
          },
          "geo": {
           "bgcolor": "white",
           "lakecolor": "white",
           "landcolor": "white",
           "showlakes": true,
           "showland": true,
           "subunitcolor": "#C8D4E3"
          },
          "hoverlabel": {
           "align": "left"
          },
          "hovermode": "closest",
          "mapbox": {
           "style": "light"
          },
          "paper_bgcolor": "white",
          "plot_bgcolor": "white",
          "polar": {
           "angularaxis": {
            "gridcolor": "#EBF0F8",
            "linecolor": "#EBF0F8",
            "ticks": ""
           },
           "bgcolor": "white",
           "radialaxis": {
            "gridcolor": "#EBF0F8",
            "linecolor": "#EBF0F8",
            "ticks": ""
           }
          },
          "scene": {
           "xaxis": {
            "backgroundcolor": "white",
            "gridcolor": "#DFE8F3",
            "gridwidth": 2,
            "linecolor": "#EBF0F8",
            "showbackground": true,
            "ticks": "",
            "zerolinecolor": "#EBF0F8"
           },
           "yaxis": {
            "backgroundcolor": "white",
            "gridcolor": "#DFE8F3",
            "gridwidth": 2,
            "linecolor": "#EBF0F8",
            "showbackground": true,
            "ticks": "",
            "zerolinecolor": "#EBF0F8"
           },
           "zaxis": {
            "backgroundcolor": "white",
            "gridcolor": "#DFE8F3",
            "gridwidth": 2,
            "linecolor": "#EBF0F8",
            "showbackground": true,
            "ticks": "",
            "zerolinecolor": "#EBF0F8"
           }
          },
          "shapedefaults": {
           "line": {
            "color": "#2a3f5f"
           }
          },
          "ternary": {
           "aaxis": {
            "gridcolor": "#DFE8F3",
            "linecolor": "#A2B1C6",
            "ticks": ""
           },
           "baxis": {
            "gridcolor": "#DFE8F3",
            "linecolor": "#A2B1C6",
            "ticks": ""
           },
           "bgcolor": "white",
           "caxis": {
            "gridcolor": "#DFE8F3",
            "linecolor": "#A2B1C6",
            "ticks": ""
           }
          },
          "title": {
           "x": 0.05
          },
          "xaxis": {
           "automargin": true,
           "gridcolor": "#EBF0F8",
           "linecolor": "#EBF0F8",
           "ticks": "",
           "title": {
            "standoff": 15
           },
           "zerolinecolor": "#EBF0F8",
           "zerolinewidth": 2
          },
          "yaxis": {
           "automargin": true,
           "gridcolor": "#EBF0F8",
           "linecolor": "#EBF0F8",
           "ticks": "",
           "title": {
            "standoff": 15
           },
           "zerolinecolor": "#EBF0F8",
           "zerolinewidth": 2
          }
         }
        },
        "title": {
         "text": "Solar PV Production, Unmet Demand, Energy Charged, Energy Discharged, Excess Energy, and Electricity Demand - January with 500 Panels and 0 Batteries"
        },
        "xaxis": {
         "ticktext": [
          "0:00",
          "1:00",
          "2:00",
          "3:00",
          "4:00",
          "5:00",
          "6:00",
          "7:00",
          "8:00",
          "9:00",
          "10:00",
          "11:00",
          "12:00",
          "13:00",
          "14:00",
          "15:00",
          "16:00",
          "17:00",
          "18:00",
          "19:00",
          "20:00",
          "21:00",
          "22:00",
          "23:00"
         ],
         "tickvals": [
          0,
          1,
          2,
          3,
          4,
          5,
          6,
          7,
          8,
          9,
          10,
          11,
          12,
          13,
          14,
          15,
          16,
          17,
          18,
          19,
          20,
          21,
          22,
          23
         ],
         "title": {
          "text": "Hour of the Day"
         }
        },
        "yaxis": {
         "title": {
          "text": "Energy (kWh)"
         }
        }
       }
      }
     },
     "metadata": {},
     "output_type": "display_data"
    }
   ],
   "source": [
    "# Widgets for user interaction\n",
    "num_panels_slider = widgets.IntSlider(\n",
    "    value=500, \n",
    "    min=500, \n",
    "    max=1500, \n",
    "    step=100, \n",
    "    description='Num Panels:', \n",
    "    style={'description_width': 'initial'},\n",
    "    continuous_update=False\n",
    ")\n",
    "\n",
    "# Update battery slider to allow values from 0 to 60\n",
    "num_batteries_slider = widgets.IntSlider(\n",
    "    value=0, \n",
    "    min=0, \n",
    "    max=100, \n",
    "    step=1, \n",
    "    description='Num Batteries:', \n",
    "    style={'description_width': 'initial'},\n",
    "    continuous_update=False\n",
    ")\n",
    "\n",
    "month_dropdown = widgets.Dropdown(\n",
    "    options=[(pd.to_datetime(month, format='%m').strftime('%B'), month) for month in range(1, 13)],\n",
    "    value=1,\n",
    "    description='Month:',\n",
    "    style={'description_width': 'initial'}\n",
    ")\n",
    "\n",
    "# Output widget to show the highest consumption day\n",
    "highest_consumption_output = widgets.Output()\n",
    "\n",
    "# Display the widgets\n",
    "display(num_panels_slider, num_batteries_slider, month_dropdown, highest_consumption_output)\n",
    "\n",
    "def print_highest_consumption_day(change=None):\n",
    "    \"\"\"Print the day with the highest consumption for the selected month.\"\"\"\n",
    "    with highest_consumption_output:\n",
    "        highest_consumption_output.clear_output()  # Clear previous output\n",
    "        \n",
    "        # Fetch user input for the selected month\n",
    "        month = month_dropdown.value\n",
    "        \n",
    "        # Filter data for the selected month\n",
    "        monthly_data = filtered_data[filtered_data.index.month == month]\n",
    "\n",
    "        if monthly_data.empty:\n",
    "            print(f\"[Warning] No data available for the selected month: {month}\")\n",
    "            return\n",
    "\n",
    "        # Calculate total daily consumption for each day in the month and find the day with the highest consumption\n",
    "        daily_consumption = monthly_data.resample('D').sum()\n",
    "        max_consumption_day = daily_consumption['Consumption'].idxmax()\n",
    "\n",
    "        # Print the date of the day with the highest consumption\n",
    "        print(f\"The day with the highest consumption for {pd.to_datetime(month, format='%m').strftime('%B')} is: {max_consumption_day.date()}\")\n",
    "\n",
    "def update_graph(change=None):\n",
    "    \"\"\"Update the graph based on user input.\"\"\"\n",
    "    # Fetch user inputs\n",
    "    num_panels = num_panels_slider.value\n",
    "    num_batteries = num_batteries_slider.value\n",
    "    month = month_dropdown.value\n",
    "\n",
    "    # Filter data for the selected month\n",
    "    monthly_data = filtered_data[filtered_data.index.month == month]\n",
    "\n",
    "    if monthly_data.empty:\n",
    "        print(f\"[Warning] No data available for the selected month: {month}\")\n",
    "        return\n",
    "\n",
    "    # Calculate total daily consumption for each day in the month and find the day with the highest consumption\n",
    "    daily_consumption = monthly_data.resample('D').sum()\n",
    "    max_consumption_day = daily_consumption['Consumption'].idxmax()\n",
    "\n",
    "    # Get the original hourly data for the day with the highest consumption\n",
    "    peak_day_data = monthly_data[monthly_data.index.date == max_consumption_day.date()]\n",
    "\n",
    "    # Ensure peak_day_data contains all hours (0-23)\n",
    "    peak_hourly_load = peak_day_data.set_index(peak_day_data.index.hour)\n",
    "\n",
    "    # Calculate PV production for the specified month and number of panels\n",
    "    monthly_pv_production = sas.calculate_monthly_pv_production(month, num_panels, sas.panel_capacity)\n",
    "\n",
    "    # Battery logic: calculate unmet demand, battery charging, discharging, and excess energy\n",
    "    battery_soc = sas.initial_soc  # Start with initial state of charge (SOC)\n",
    "    battery_capacity = sas.battery_capacity_per_unit * num_batteries  # Calculate total battery capacity\n",
    "    energy_discharged = []\n",
    "    energy_charged = []\n",
    "    unmet_demand = []\n",
    "    excess_energy = []\n",
    "\n",
    "    for hour in range(24):\n",
    "        # Ensure the hour exists in the peak_hourly_load; if not, set consumption to 0\n",
    "        if hour not in peak_hourly_load.index:\n",
    "            consumption = 0\n",
    "        else:\n",
    "            consumption = peak_hourly_load.loc[hour]['Consumption']\n",
    "\n",
    "        pv_production = monthly_pv_production[hour]\n",
    "\n",
    "        if pv_production >= consumption:\n",
    "            # Excess energy available\n",
    "            excess = pv_production - consumption\n",
    "\n",
    "            if num_batteries > 0 and battery_soc < 100:\n",
    "                # Charge the battery only if there's capacity\n",
    "                charge = min(excess * sas.converter_efficiency, (100 - battery_soc) / 100 * battery_capacity)\n",
    "                energy_charged.append(charge)\n",
    "                battery_soc += (charge / battery_capacity) * 100\n",
    "                excess_energy.append(-(excess - charge))  # Excess energy after charging shown as negative value\n",
    "            else:\n",
    "                energy_charged.append(0)\n",
    "                excess_energy.append(-excess)  # All excess is \"excess energy\" if no battery, shown as negative value\n",
    "\n",
    "            energy_discharged.append(0)\n",
    "            unmet_demand.append(0)\n",
    "        else:\n",
    "            # PV production is not enough to meet demand\n",
    "            deficit = consumption - pv_production\n",
    "\n",
    "            if num_batteries > 0 and battery_soc > 20:\n",
    "                # Discharge the battery if SOC is above the minimum threshold\n",
    "                discharge = min(deficit, (battery_soc - 20) / 100 * battery_capacity)\n",
    "                energy_discharged.append(discharge)\n",
    "                battery_soc -= (discharge / battery_capacity) * 100\n",
    "                unmet_demand.append(deficit - discharge)\n",
    "            else:\n",
    "                energy_discharged.append(0)\n",
    "                unmet_demand.append(deficit)\n",
    "            energy_charged.append(0)\n",
    "            excess_energy.append(0)\n",
    "\n",
    "    # Plot Solar PV Production, Unmet Demand, Energy Charged, Energy Discharged, and Electricity Demand\n",
    "    fig = go.Figure()\n",
    "\n",
    "    # Add bar traces for different components\n",
    "    fig.add_trace(go.Bar(x=np.arange(24), y=monthly_pv_production, name='Solar PV Production (kW)', marker_color='orange'))\n",
    "    fig.add_trace(go.Bar(x=np.arange(24), y=unmet_demand, name='Unmet Demand (kW)', marker_color='red'))\n",
    "\n",
    "    # If batteries are used, add energy charged and discharged traces\n",
    "    if num_batteries > 0:\n",
    "        fig.add_trace(go.Bar(x=np.arange(24), y=[-val for val in energy_charged], name='Energy Charged to Battery (kW)', marker_color='green'))\n",
    "        fig.add_trace(go.Bar(x=np.arange(24), y=energy_discharged, name='Energy Discharged from Battery (kW)', marker_color='purple'))\n",
    "\n",
    "    # Add excess energy trace (energy that wasn't stored or used, shown below the x-axis)\n",
    "    fig.add_trace(go.Bar(x=np.arange(24), y=excess_energy, name='Excess Energy (kW)', marker_color='cyan'))\n",
    "\n",
    "    fig.add_trace(go.Scatter(x=np.arange(24), y=peak_hourly_load['Consumption'], mode='lines', name='Electricity Demand (kW)', line=dict(color='blue', dash='dash')))\n",
    "\n",
    "    # Update layout\n",
    "    fig.update_layout(\n",
    "        title=f'Solar PV Production, Unmet Demand, Energy Charged, Energy Discharged, Excess Energy, and Electricity Demand - {pd.to_datetime(month, format=\"%m\").strftime(\"%B\")} with {num_panels} Panels and {num_batteries} Batteries',\n",
    "        xaxis_title='Hour of the Day',\n",
    "        yaxis_title='Energy (kWh)',\n",
    "        xaxis=dict(tickvals=list(range(0, 24)), ticktext=[f'{h}:00' for h in range(0, 24)]),\n",
    "        template='plotly_white',\n",
    "        barmode='relative'\n",
    "    )\n",
    "\n",
    "    # Clear previous output and display updated figure\n",
    "    clear_output(wait=True)\n",
    "    display(num_panels_slider, num_batteries_slider, month_dropdown, highest_consumption_output)\n",
    "    fig.show()\n",
    "\n",
    "# Attach the update functions to the interactive widgets\n",
    "num_panels_slider.observe(update_graph, names='value')\n",
    "num_batteries_slider.observe(update_graph, names='value')\n",
    "month_dropdown.observe(update_graph, names='value')\n",
    "month_dropdown.observe(print_highest_consumption_day, names='value')\n",
    "\n",
    "# Initial outputs \n",
    "print_highest_consumption_day()\n",
    "update_graph()"
   ]
  },
  {
   "cell_type": "markdown",
   "metadata": {},
   "source": [
    "# Solar Energy Consumption and Production Analysis \n",
    "\n",
    "#### 1. Performance Indicator vs Different number of Panels \n",
    "#### 2. Performance Indicator vs Different number of Batteries\n"
   ]
  },
  {
   "cell_type": "code",
   "execution_count": 12,
   "metadata": {},
   "outputs": [
    {
     "name": "stdout",
     "output_type": "stream",
     "text": [
      "Calculating monthly PV production for month: 1 with 500 panels and panel capacity 610W\n",
      "Calculating monthly PV production for month: 2 with 500 panels and panel capacity 610W\n",
      "Calculating monthly PV production for month: 3 with 500 panels and panel capacity 610W\n",
      "Calculating monthly PV production for month: 4 with 500 panels and panel capacity 610W\n",
      "Calculating monthly PV production for month: 5 with 500 panels and panel capacity 610W\n",
      "Calculating monthly PV production for month: 6 with 500 panels and panel capacity 610W\n",
      "Calculating monthly PV production for month: 7 with 500 panels and panel capacity 610W\n",
      "Calculating monthly PV production for month: 8 with 500 panels and panel capacity 610W\n",
      "Calculating monthly PV production for month: 9 with 500 panels and panel capacity 610W\n",
      "Calculating monthly PV production for month: 10 with 500 panels and panel capacity 610W\n",
      "Calculating monthly PV production for month: 11 with 500 panels and panel capacity 610W\n",
      "Calculating monthly PV production for month: 12 with 500 panels and panel capacity 610W\n",
      "Calculating monthly PV production for month: 1 with 600 panels and panel capacity 610W\n",
      "Calculating monthly PV production for month: 2 with 600 panels and panel capacity 610W\n",
      "Calculating monthly PV production for month: 3 with 600 panels and panel capacity 610W\n",
      "Calculating monthly PV production for month: 4 with 600 panels and panel capacity 610W\n",
      "Calculating monthly PV production for month: 5 with 600 panels and panel capacity 610W\n",
      "Calculating monthly PV production for month: 6 with 600 panels and panel capacity 610W\n",
      "Calculating monthly PV production for month: 7 with 600 panels and panel capacity 610W\n",
      "Calculating monthly PV production for month: 8 with 600 panels and panel capacity 610W\n",
      "Calculating monthly PV production for month: 9 with 600 panels and panel capacity 610W\n",
      "Calculating monthly PV production for month: 10 with 600 panels and panel capacity 610W\n",
      "Calculating monthly PV production for month: 11 with 600 panels and panel capacity 610W\n",
      "Calculating monthly PV production for month: 12 with 600 panels and panel capacity 610W\n",
      "Calculating monthly PV production for month: 1 with 700 panels and panel capacity 610W\n",
      "Calculating monthly PV production for month: 2 with 700 panels and panel capacity 610W\n",
      "Calculating monthly PV production for month: 3 with 700 panels and panel capacity 610W\n",
      "Calculating monthly PV production for month: 4 with 700 panels and panel capacity 610W\n",
      "Calculating monthly PV production for month: 5 with 700 panels and panel capacity 610W\n",
      "Calculating monthly PV production for month: 6 with 700 panels and panel capacity 610W\n",
      "Calculating monthly PV production for month: 7 with 700 panels and panel capacity 610W\n",
      "Calculating monthly PV production for month: 8 with 700 panels and panel capacity 610W\n",
      "Calculating monthly PV production for month: 9 with 700 panels and panel capacity 610W\n",
      "Calculating monthly PV production for month: 10 with 700 panels and panel capacity 610W\n",
      "Calculating monthly PV production for month: 11 with 700 panels and panel capacity 610W\n",
      "Calculating monthly PV production for month: 12 with 700 panels and panel capacity 610W\n",
      "Calculating monthly PV production for month: 1 with 800 panels and panel capacity 610W\n",
      "Calculating monthly PV production for month: 2 with 800 panels and panel capacity 610W\n",
      "Calculating monthly PV production for month: 3 with 800 panels and panel capacity 610W\n",
      "Calculating monthly PV production for month: 4 with 800 panels and panel capacity 610W\n",
      "Calculating monthly PV production for month: 5 with 800 panels and panel capacity 610W\n",
      "Calculating monthly PV production for month: 6 with 800 panels and panel capacity 610W\n",
      "Calculating monthly PV production for month: 7 with 800 panels and panel capacity 610W\n",
      "Calculating monthly PV production for month: 8 with 800 panels and panel capacity 610W\n",
      "Calculating monthly PV production for month: 9 with 800 panels and panel capacity 610W\n",
      "Calculating monthly PV production for month: 10 with 800 panels and panel capacity 610W\n",
      "Calculating monthly PV production for month: 11 with 800 panels and panel capacity 610W\n",
      "Calculating monthly PV production for month: 12 with 800 panels and panel capacity 610W\n",
      "Calculating monthly PV production for month: 1 with 900 panels and panel capacity 610W\n",
      "Calculating monthly PV production for month: 2 with 900 panels and panel capacity 610W\n",
      "Calculating monthly PV production for month: 3 with 900 panels and panel capacity 610W\n",
      "Calculating monthly PV production for month: 4 with 900 panels and panel capacity 610W\n",
      "Calculating monthly PV production for month: 5 with 900 panels and panel capacity 610W\n",
      "Calculating monthly PV production for month: 6 with 900 panels and panel capacity 610W\n",
      "Calculating monthly PV production for month: 7 with 900 panels and panel capacity 610W\n",
      "Calculating monthly PV production for month: 8 with 900 panels and panel capacity 610W\n",
      "Calculating monthly PV production for month: 9 with 900 panels and panel capacity 610W\n",
      "Calculating monthly PV production for month: 10 with 900 panels and panel capacity 610W\n",
      "Calculating monthly PV production for month: 11 with 900 panels and panel capacity 610W\n",
      "Calculating monthly PV production for month: 12 with 900 panels and panel capacity 610W\n",
      "Calculating monthly PV production for month: 1 with 500 panels and panel capacity 610W\n",
      "Calculating monthly PV production for month: 2 with 500 panels and panel capacity 610W\n",
      "Calculating monthly PV production for month: 3 with 500 panels and panel capacity 610W\n",
      "Calculating monthly PV production for month: 4 with 500 panels and panel capacity 610W\n",
      "Calculating monthly PV production for month: 5 with 500 panels and panel capacity 610W\n",
      "Calculating monthly PV production for month: 6 with 500 panels and panel capacity 610W\n",
      "Calculating monthly PV production for month: 7 with 500 panels and panel capacity 610W\n",
      "Calculating monthly PV production for month: 8 with 500 panels and panel capacity 610W\n",
      "Calculating monthly PV production for month: 9 with 500 panels and panel capacity 610W\n",
      "Calculating monthly PV production for month: 10 with 500 panels and panel capacity 610W\n",
      "Calculating monthly PV production for month: 11 with 500 panels and panel capacity 610W\n",
      "Calculating monthly PV production for month: 12 with 500 panels and panel capacity 610W\n",
      "Calculating monthly PV production for month: 1 with 600 panels and panel capacity 610W\n",
      "Calculating monthly PV production for month: 2 with 600 panels and panel capacity 610W\n",
      "Calculating monthly PV production for month: 3 with 600 panels and panel capacity 610W\n",
      "Calculating monthly PV production for month: 4 with 600 panels and panel capacity 610W\n",
      "Calculating monthly PV production for month: 5 with 600 panels and panel capacity 610W\n",
      "Calculating monthly PV production for month: 6 with 600 panels and panel capacity 610W\n",
      "Calculating monthly PV production for month: 7 with 600 panels and panel capacity 610W\n",
      "Calculating monthly PV production for month: 8 with 600 panels and panel capacity 610W\n",
      "Calculating monthly PV production for month: 9 with 600 panels and panel capacity 610W\n",
      "Calculating monthly PV production for month: 10 with 600 panels and panel capacity 610W\n",
      "Calculating monthly PV production for month: 11 with 600 panels and panel capacity 610W\n",
      "Calculating monthly PV production for month: 12 with 600 panels and panel capacity 610W\n",
      "Calculating monthly PV production for month: 1 with 700 panels and panel capacity 610W\n",
      "Calculating monthly PV production for month: 2 with 700 panels and panel capacity 610W\n",
      "Calculating monthly PV production for month: 3 with 700 panels and panel capacity 610W\n",
      "Calculating monthly PV production for month: 4 with 700 panels and panel capacity 610W\n",
      "Calculating monthly PV production for month: 5 with 700 panels and panel capacity 610W\n",
      "Calculating monthly PV production for month: 6 with 700 panels and panel capacity 610W\n",
      "Calculating monthly PV production for month: 7 with 700 panels and panel capacity 610W\n",
      "Calculating monthly PV production for month: 8 with 700 panels and panel capacity 610W\n",
      "Calculating monthly PV production for month: 9 with 700 panels and panel capacity 610W\n",
      "Calculating monthly PV production for month: 10 with 700 panels and panel capacity 610W\n",
      "Calculating monthly PV production for month: 11 with 700 panels and panel capacity 610W\n",
      "Calculating monthly PV production for month: 12 with 700 panels and panel capacity 610W\n",
      "Calculating monthly PV production for month: 1 with 800 panels and panel capacity 610W\n",
      "Calculating monthly PV production for month: 2 with 800 panels and panel capacity 610W\n",
      "Calculating monthly PV production for month: 3 with 800 panels and panel capacity 610W\n",
      "Calculating monthly PV production for month: 4 with 800 panels and panel capacity 610W\n",
      "Calculating monthly PV production for month: 5 with 800 panels and panel capacity 610W\n",
      "Calculating monthly PV production for month: 6 with 800 panels and panel capacity 610W\n",
      "Calculating monthly PV production for month: 7 with 800 panels and panel capacity 610W\n",
      "Calculating monthly PV production for month: 8 with 800 panels and panel capacity 610W\n",
      "Calculating monthly PV production for month: 9 with 800 panels and panel capacity 610W\n",
      "Calculating monthly PV production for month: 10 with 800 panels and panel capacity 610W\n",
      "Calculating monthly PV production for month: 11 with 800 panels and panel capacity 610W\n",
      "Calculating monthly PV production for month: 12 with 800 panels and panel capacity 610W\n",
      "Calculating monthly PV production for month: 1 with 900 panels and panel capacity 610W\n",
      "Calculating monthly PV production for month: 2 with 900 panels and panel capacity 610W\n",
      "Calculating monthly PV production for month: 3 with 900 panels and panel capacity 610W\n",
      "Calculating monthly PV production for month: 4 with 900 panels and panel capacity 610W\n",
      "Calculating monthly PV production for month: 5 with 900 panels and panel capacity 610W\n",
      "Calculating monthly PV production for month: 6 with 900 panels and panel capacity 610W\n",
      "Calculating monthly PV production for month: 7 with 900 panels and panel capacity 610W\n",
      "Calculating monthly PV production for month: 8 with 900 panels and panel capacity 610W\n",
      "Calculating monthly PV production for month: 9 with 900 panels and panel capacity 610W\n",
      "Calculating monthly PV production for month: 10 with 900 panels and panel capacity 610W\n",
      "Calculating monthly PV production for month: 11 with 900 panels and panel capacity 610W\n",
      "Calculating monthly PV production for month: 12 with 900 panels and panel capacity 610W\n",
      "Calculating monthly PV production for month: 1 with 500 panels and panel capacity 610W\n",
      "Calculating monthly PV production for month: 2 with 500 panels and panel capacity 610W\n",
      "Calculating monthly PV production for month: 3 with 500 panels and panel capacity 610W\n",
      "Calculating monthly PV production for month: 4 with 500 panels and panel capacity 610W\n",
      "Calculating monthly PV production for month: 5 with 500 panels and panel capacity 610W\n",
      "Calculating monthly PV production for month: 6 with 500 panels and panel capacity 610W\n",
      "Calculating monthly PV production for month: 7 with 500 panels and panel capacity 610W\n",
      "Calculating monthly PV production for month: 8 with 500 panels and panel capacity 610W\n",
      "Calculating monthly PV production for month: 9 with 500 panels and panel capacity 610W\n",
      "Calculating monthly PV production for month: 10 with 500 panels and panel capacity 610W\n",
      "Calculating monthly PV production for month: 11 with 500 panels and panel capacity 610W\n",
      "Calculating monthly PV production for month: 12 with 500 panels and panel capacity 610W\n",
      "Calculating monthly PV production for month: 1 with 600 panels and panel capacity 610W\n",
      "Calculating monthly PV production for month: 2 with 600 panels and panel capacity 610W\n",
      "Calculating monthly PV production for month: 3 with 600 panels and panel capacity 610W\n",
      "Calculating monthly PV production for month: 4 with 600 panels and panel capacity 610W\n",
      "Calculating monthly PV production for month: 5 with 600 panels and panel capacity 610W\n",
      "Calculating monthly PV production for month: 6 with 600 panels and panel capacity 610W\n",
      "Calculating monthly PV production for month: 7 with 600 panels and panel capacity 610W\n",
      "Calculating monthly PV production for month: 8 with 600 panels and panel capacity 610W\n",
      "Calculating monthly PV production for month: 9 with 600 panels and panel capacity 610W\n",
      "Calculating monthly PV production for month: 10 with 600 panels and panel capacity 610W\n",
      "Calculating monthly PV production for month: 11 with 600 panels and panel capacity 610W\n",
      "Calculating monthly PV production for month: 12 with 600 panels and panel capacity 610W\n",
      "Calculating monthly PV production for month: 1 with 700 panels and panel capacity 610W\n",
      "Calculating monthly PV production for month: 2 with 700 panels and panel capacity 610W\n",
      "Calculating monthly PV production for month: 3 with 700 panels and panel capacity 610W\n",
      "Calculating monthly PV production for month: 4 with 700 panels and panel capacity 610W\n",
      "Calculating monthly PV production for month: 5 with 700 panels and panel capacity 610W\n",
      "Calculating monthly PV production for month: 6 with 700 panels and panel capacity 610W\n",
      "Calculating monthly PV production for month: 7 with 700 panels and panel capacity 610W\n",
      "Calculating monthly PV production for month: 8 with 700 panels and panel capacity 610W\n",
      "Calculating monthly PV production for month: 9 with 700 panels and panel capacity 610W\n",
      "Calculating monthly PV production for month: 10 with 700 panels and panel capacity 610W\n",
      "Calculating monthly PV production for month: 11 with 700 panels and panel capacity 610W\n",
      "Calculating monthly PV production for month: 12 with 700 panels and panel capacity 610W\n",
      "Calculating monthly PV production for month: 1 with 800 panels and panel capacity 610W\n",
      "Calculating monthly PV production for month: 2 with 800 panels and panel capacity 610W\n",
      "Calculating monthly PV production for month: 3 with 800 panels and panel capacity 610W\n",
      "Calculating monthly PV production for month: 4 with 800 panels and panel capacity 610W\n",
      "Calculating monthly PV production for month: 5 with 800 panels and panel capacity 610W\n",
      "Calculating monthly PV production for month: 6 with 800 panels and panel capacity 610W\n",
      "Calculating monthly PV production for month: 7 with 800 panels and panel capacity 610W\n",
      "Calculating monthly PV production for month: 8 with 800 panels and panel capacity 610W\n",
      "Calculating monthly PV production for month: 9 with 800 panels and panel capacity 610W\n",
      "Calculating monthly PV production for month: 10 with 800 panels and panel capacity 610W\n",
      "Calculating monthly PV production for month: 11 with 800 panels and panel capacity 610W\n",
      "Calculating monthly PV production for month: 12 with 800 panels and panel capacity 610W\n",
      "Calculating monthly PV production for month: 1 with 900 panels and panel capacity 610W\n",
      "Calculating monthly PV production for month: 2 with 900 panels and panel capacity 610W\n",
      "Calculating monthly PV production for month: 3 with 900 panels and panel capacity 610W\n",
      "Calculating monthly PV production for month: 4 with 900 panels and panel capacity 610W\n",
      "Calculating monthly PV production for month: 5 with 900 panels and panel capacity 610W\n",
      "Calculating monthly PV production for month: 6 with 900 panels and panel capacity 610W\n",
      "Calculating monthly PV production for month: 7 with 900 panels and panel capacity 610W\n",
      "Calculating monthly PV production for month: 8 with 900 panels and panel capacity 610W\n",
      "Calculating monthly PV production for month: 9 with 900 panels and panel capacity 610W\n",
      "Calculating monthly PV production for month: 10 with 900 panels and panel capacity 610W\n",
      "Calculating monthly PV production for month: 11 with 900 panels and panel capacity 610W\n",
      "Calculating monthly PV production for month: 12 with 900 panels and panel capacity 610W\n",
      "Calculating monthly PV production for month: 1 with 500 panels and panel capacity 610W\n",
      "Calculating monthly PV production for month: 2 with 500 panels and panel capacity 610W\n",
      "Calculating monthly PV production for month: 3 with 500 panels and panel capacity 610W\n",
      "Calculating monthly PV production for month: 4 with 500 panels and panel capacity 610W\n",
      "Calculating monthly PV production for month: 5 with 500 panels and panel capacity 610W\n",
      "Calculating monthly PV production for month: 6 with 500 panels and panel capacity 610W\n",
      "Calculating monthly PV production for month: 7 with 500 panels and panel capacity 610W\n",
      "Calculating monthly PV production for month: 8 with 500 panels and panel capacity 610W\n",
      "Calculating monthly PV production for month: 9 with 500 panels and panel capacity 610W\n",
      "Calculating monthly PV production for month: 10 with 500 panels and panel capacity 610W\n",
      "Calculating monthly PV production for month: 11 with 500 panels and panel capacity 610W\n",
      "Calculating monthly PV production for month: 12 with 500 panels and panel capacity 610W\n",
      "Calculating monthly PV production for month: 1 with 600 panels and panel capacity 610W\n",
      "Calculating monthly PV production for month: 2 with 600 panels and panel capacity 610W\n",
      "Calculating monthly PV production for month: 3 with 600 panels and panel capacity 610W\n",
      "Calculating monthly PV production for month: 4 with 600 panels and panel capacity 610W\n",
      "Calculating monthly PV production for month: 5 with 600 panels and panel capacity 610W\n",
      "Calculating monthly PV production for month: 6 with 600 panels and panel capacity 610W\n",
      "Calculating monthly PV production for month: 7 with 600 panels and panel capacity 610W\n",
      "Calculating monthly PV production for month: 8 with 600 panels and panel capacity 610W\n",
      "Calculating monthly PV production for month: 9 with 600 panels and panel capacity 610W\n",
      "Calculating monthly PV production for month: 10 with 600 panels and panel capacity 610W\n",
      "Calculating monthly PV production for month: 11 with 600 panels and panel capacity 610W\n",
      "Calculating monthly PV production for month: 12 with 600 panels and panel capacity 610W\n",
      "Calculating monthly PV production for month: 1 with 700 panels and panel capacity 610W\n",
      "Calculating monthly PV production for month: 2 with 700 panels and panel capacity 610W\n",
      "Calculating monthly PV production for month: 3 with 700 panels and panel capacity 610W\n",
      "Calculating monthly PV production for month: 4 with 700 panels and panel capacity 610W\n",
      "Calculating monthly PV production for month: 5 with 700 panels and panel capacity 610W\n",
      "Calculating monthly PV production for month: 6 with 700 panels and panel capacity 610W\n",
      "Calculating monthly PV production for month: 7 with 700 panels and panel capacity 610W\n",
      "Calculating monthly PV production for month: 8 with 700 panels and panel capacity 610W\n",
      "Calculating monthly PV production for month: 9 with 700 panels and panel capacity 610W\n",
      "Calculating monthly PV production for month: 10 with 700 panels and panel capacity 610W\n",
      "Calculating monthly PV production for month: 11 with 700 panels and panel capacity 610W\n",
      "Calculating monthly PV production for month: 12 with 700 panels and panel capacity 610W\n",
      "Calculating monthly PV production for month: 1 with 800 panels and panel capacity 610W\n",
      "Calculating monthly PV production for month: 2 with 800 panels and panel capacity 610W\n",
      "Calculating monthly PV production for month: 3 with 800 panels and panel capacity 610W\n",
      "Calculating monthly PV production for month: 4 with 800 panels and panel capacity 610W\n",
      "Calculating monthly PV production for month: 5 with 800 panels and panel capacity 610W\n",
      "Calculating monthly PV production for month: 6 with 800 panels and panel capacity 610W\n",
      "Calculating monthly PV production for month: 7 with 800 panels and panel capacity 610W\n",
      "Calculating monthly PV production for month: 8 with 800 panels and panel capacity 610W\n",
      "Calculating monthly PV production for month: 9 with 800 panels and panel capacity 610W\n",
      "Calculating monthly PV production for month: 10 with 800 panels and panel capacity 610W\n",
      "Calculating monthly PV production for month: 11 with 800 panels and panel capacity 610W\n",
      "Calculating monthly PV production for month: 12 with 800 panels and panel capacity 610W\n",
      "Calculating monthly PV production for month: 1 with 900 panels and panel capacity 610W\n",
      "Calculating monthly PV production for month: 2 with 900 panels and panel capacity 610W\n",
      "Calculating monthly PV production for month: 3 with 900 panels and panel capacity 610W\n",
      "Calculating monthly PV production for month: 4 with 900 panels and panel capacity 610W\n",
      "Calculating monthly PV production for month: 5 with 900 panels and panel capacity 610W\n",
      "Calculating monthly PV production for month: 6 with 900 panels and panel capacity 610W\n",
      "Calculating monthly PV production for month: 7 with 900 panels and panel capacity 610W\n",
      "Calculating monthly PV production for month: 8 with 900 panels and panel capacity 610W\n",
      "Calculating monthly PV production for month: 9 with 900 panels and panel capacity 610W\n",
      "Calculating monthly PV production for month: 10 with 900 panels and panel capacity 610W\n",
      "Calculating monthly PV production for month: 11 with 900 panels and panel capacity 610W\n",
      "Calculating monthly PV production for month: 12 with 900 panels and panel capacity 610W\n",
      "Calculating monthly PV production for month: 1 with 500 panels and panel capacity 610W\n",
      "Calculating monthly PV production for month: 2 with 500 panels and panel capacity 610W\n",
      "Calculating monthly PV production for month: 3 with 500 panels and panel capacity 610W\n",
      "Calculating monthly PV production for month: 4 with 500 panels and panel capacity 610W\n",
      "Calculating monthly PV production for month: 5 with 500 panels and panel capacity 610W\n",
      "Calculating monthly PV production for month: 6 with 500 panels and panel capacity 610W\n",
      "Calculating monthly PV production for month: 7 with 500 panels and panel capacity 610W\n",
      "Calculating monthly PV production for month: 8 with 500 panels and panel capacity 610W\n",
      "Calculating monthly PV production for month: 9 with 500 panels and panel capacity 610W\n",
      "Calculating monthly PV production for month: 10 with 500 panels and panel capacity 610W\n",
      "Calculating monthly PV production for month: 11 with 500 panels and panel capacity 610W\n",
      "Calculating monthly PV production for month: 12 with 500 panels and panel capacity 610W\n",
      "Calculating monthly PV production for month: 1 with 600 panels and panel capacity 610W\n",
      "Calculating monthly PV production for month: 2 with 600 panels and panel capacity 610W\n",
      "Calculating monthly PV production for month: 3 with 600 panels and panel capacity 610W\n",
      "Calculating monthly PV production for month: 4 with 600 panels and panel capacity 610W\n",
      "Calculating monthly PV production for month: 5 with 600 panels and panel capacity 610W\n",
      "Calculating monthly PV production for month: 6 with 600 panels and panel capacity 610W\n",
      "Calculating monthly PV production for month: 7 with 600 panels and panel capacity 610W\n",
      "Calculating monthly PV production for month: 8 with 600 panels and panel capacity 610W\n",
      "Calculating monthly PV production for month: 9 with 600 panels and panel capacity 610W\n",
      "Calculating monthly PV production for month: 10 with 600 panels and panel capacity 610W\n",
      "Calculating monthly PV production for month: 11 with 600 panels and panel capacity 610W\n",
      "Calculating monthly PV production for month: 12 with 600 panels and panel capacity 610W\n",
      "Calculating monthly PV production for month: 1 with 700 panels and panel capacity 610W\n",
      "Calculating monthly PV production for month: 2 with 700 panels and panel capacity 610W\n",
      "Calculating monthly PV production for month: 3 with 700 panels and panel capacity 610W\n",
      "Calculating monthly PV production for month: 4 with 700 panels and panel capacity 610W\n",
      "Calculating monthly PV production for month: 5 with 700 panels and panel capacity 610W\n",
      "Calculating monthly PV production for month: 6 with 700 panels and panel capacity 610W\n",
      "Calculating monthly PV production for month: 7 with 700 panels and panel capacity 610W\n",
      "Calculating monthly PV production for month: 8 with 700 panels and panel capacity 610W\n",
      "Calculating monthly PV production for month: 9 with 700 panels and panel capacity 610W\n",
      "Calculating monthly PV production for month: 10 with 700 panels and panel capacity 610W\n",
      "Calculating monthly PV production for month: 11 with 700 panels and panel capacity 610W\n",
      "Calculating monthly PV production for month: 12 with 700 panels and panel capacity 610W\n",
      "Calculating monthly PV production for month: 1 with 800 panels and panel capacity 610W\n",
      "Calculating monthly PV production for month: 2 with 800 panels and panel capacity 610W\n",
      "Calculating monthly PV production for month: 3 with 800 panels and panel capacity 610W\n",
      "Calculating monthly PV production for month: 4 with 800 panels and panel capacity 610W\n",
      "Calculating monthly PV production for month: 5 with 800 panels and panel capacity 610W\n",
      "Calculating monthly PV production for month: 6 with 800 panels and panel capacity 610W\n",
      "Calculating monthly PV production for month: 7 with 800 panels and panel capacity 610W\n",
      "Calculating monthly PV production for month: 8 with 800 panels and panel capacity 610W\n",
      "Calculating monthly PV production for month: 9 with 800 panels and panel capacity 610W\n",
      "Calculating monthly PV production for month: 10 with 800 panels and panel capacity 610W\n",
      "Calculating monthly PV production for month: 11 with 800 panels and panel capacity 610W\n",
      "Calculating monthly PV production for month: 12 with 800 panels and panel capacity 610W\n",
      "Calculating monthly PV production for month: 1 with 900 panels and panel capacity 610W\n",
      "Calculating monthly PV production for month: 2 with 900 panels and panel capacity 610W\n",
      "Calculating monthly PV production for month: 3 with 900 panels and panel capacity 610W\n",
      "Calculating monthly PV production for month: 4 with 900 panels and panel capacity 610W\n",
      "Calculating monthly PV production for month: 5 with 900 panels and panel capacity 610W\n",
      "Calculating monthly PV production for month: 6 with 900 panels and panel capacity 610W\n",
      "Calculating monthly PV production for month: 7 with 900 panels and panel capacity 610W\n",
      "Calculating monthly PV production for month: 8 with 900 panels and panel capacity 610W\n",
      "Calculating monthly PV production for month: 9 with 900 panels and panel capacity 610W\n",
      "Calculating monthly PV production for month: 10 with 900 panels and panel capacity 610W\n",
      "Calculating monthly PV production for month: 11 with 900 panels and panel capacity 610W\n",
      "Calculating monthly PV production for month: 12 with 900 panels and panel capacity 610W\n"
     ]
    },
    {
     "data": {
      "application/vnd.plotly.v1+json": {
       "config": {
        "plotlyServerURL": "https://plot.ly"
       },
       "data": [
        {
         "line": {
          "dash": "solid"
         },
         "mode": "lines+markers",
         "name": "0 Batteries",
         "type": "scatter",
         "x": [
          500,
          600,
          700,
          800,
          900
         ],
         "y": [
          0.6838219513051491,
          0.6286515510987418,
          0.5805404449397724,
          0.5387222085474158,
          0.5026405102693378
         ]
        },
        {
         "line": {
          "dash": "dash"
         },
         "mode": "lines+markers",
         "name": "10 Batteries",
         "type": "scatter",
         "x": [
          500,
          600,
          700,
          800,
          900
         ],
         "y": [
          0.8388919046490853,
          0.7789626230685425,
          0.7226795243192466,
          0.6714946679488245,
          0.626352450706689
         ]
        },
        {
         "line": {
          "dash": "dash"
         },
         "mode": "lines+markers",
         "name": "30 Batteries",
         "type": "scatter",
         "x": [
          500,
          600,
          700,
          800,
          900
         ],
         "y": [
          0.9553141731105712,
          0.9255565123033002,
          0.889733048093977,
          0.846061304708323,
          0.8009854430243356
         ]
        },
        {
         "line": {
          "dash": "dash"
         },
         "mode": "lines+markers",
         "name": "60 Batteries",
         "type": "scatter",
         "x": [
          500,
          600,
          700,
          800,
          900
         ],
         "y": [
          0.9664480791976611,
          0.951520707157757,
          0.9276307119781904,
          0.8835443038028511,
          0.8366338727015187
         ]
        },
        {
         "line": {
          "dash": "dash"
         },
         "mode": "lines+markers",
         "name": "100 Batteries",
         "type": "scatter",
         "x": [
          500,
          600,
          700,
          800,
          900
         ],
         "y": [
          0.9705797983207869,
          0.95703446215437,
          0.937384995670484,
          0.8952384693921345,
          0.8467435378498338
         ]
        }
       ],
       "layout": {
        "height": 600,
        "template": {
         "data": {
          "bar": [
           {
            "error_x": {
             "color": "#2a3f5f"
            },
            "error_y": {
             "color": "#2a3f5f"
            },
            "marker": {
             "line": {
              "color": "white",
              "width": 0.5
             },
             "pattern": {
              "fillmode": "overlay",
              "size": 10,
              "solidity": 0.2
             }
            },
            "type": "bar"
           }
          ],
          "barpolar": [
           {
            "marker": {
             "line": {
              "color": "white",
              "width": 0.5
             },
             "pattern": {
              "fillmode": "overlay",
              "size": 10,
              "solidity": 0.2
             }
            },
            "type": "barpolar"
           }
          ],
          "carpet": [
           {
            "aaxis": {
             "endlinecolor": "#2a3f5f",
             "gridcolor": "#C8D4E3",
             "linecolor": "#C8D4E3",
             "minorgridcolor": "#C8D4E3",
             "startlinecolor": "#2a3f5f"
            },
            "baxis": {
             "endlinecolor": "#2a3f5f",
             "gridcolor": "#C8D4E3",
             "linecolor": "#C8D4E3",
             "minorgridcolor": "#C8D4E3",
             "startlinecolor": "#2a3f5f"
            },
            "type": "carpet"
           }
          ],
          "choropleth": [
           {
            "colorbar": {
             "outlinewidth": 0,
             "ticks": ""
            },
            "type": "choropleth"
           }
          ],
          "contour": [
           {
            "colorbar": {
             "outlinewidth": 0,
             "ticks": ""
            },
            "colorscale": [
             [
              0,
              "#0d0887"
             ],
             [
              0.1111111111111111,
              "#46039f"
             ],
             [
              0.2222222222222222,
              "#7201a8"
             ],
             [
              0.3333333333333333,
              "#9c179e"
             ],
             [
              0.4444444444444444,
              "#bd3786"
             ],
             [
              0.5555555555555556,
              "#d8576b"
             ],
             [
              0.6666666666666666,
              "#ed7953"
             ],
             [
              0.7777777777777778,
              "#fb9f3a"
             ],
             [
              0.8888888888888888,
              "#fdca26"
             ],
             [
              1,
              "#f0f921"
             ]
            ],
            "type": "contour"
           }
          ],
          "contourcarpet": [
           {
            "colorbar": {
             "outlinewidth": 0,
             "ticks": ""
            },
            "type": "contourcarpet"
           }
          ],
          "heatmap": [
           {
            "colorbar": {
             "outlinewidth": 0,
             "ticks": ""
            },
            "colorscale": [
             [
              0,
              "#0d0887"
             ],
             [
              0.1111111111111111,
              "#46039f"
             ],
             [
              0.2222222222222222,
              "#7201a8"
             ],
             [
              0.3333333333333333,
              "#9c179e"
             ],
             [
              0.4444444444444444,
              "#bd3786"
             ],
             [
              0.5555555555555556,
              "#d8576b"
             ],
             [
              0.6666666666666666,
              "#ed7953"
             ],
             [
              0.7777777777777778,
              "#fb9f3a"
             ],
             [
              0.8888888888888888,
              "#fdca26"
             ],
             [
              1,
              "#f0f921"
             ]
            ],
            "type": "heatmap"
           }
          ],
          "heatmapgl": [
           {
            "colorbar": {
             "outlinewidth": 0,
             "ticks": ""
            },
            "colorscale": [
             [
              0,
              "#0d0887"
             ],
             [
              0.1111111111111111,
              "#46039f"
             ],
             [
              0.2222222222222222,
              "#7201a8"
             ],
             [
              0.3333333333333333,
              "#9c179e"
             ],
             [
              0.4444444444444444,
              "#bd3786"
             ],
             [
              0.5555555555555556,
              "#d8576b"
             ],
             [
              0.6666666666666666,
              "#ed7953"
             ],
             [
              0.7777777777777778,
              "#fb9f3a"
             ],
             [
              0.8888888888888888,
              "#fdca26"
             ],
             [
              1,
              "#f0f921"
             ]
            ],
            "type": "heatmapgl"
           }
          ],
          "histogram": [
           {
            "marker": {
             "pattern": {
              "fillmode": "overlay",
              "size": 10,
              "solidity": 0.2
             }
            },
            "type": "histogram"
           }
          ],
          "histogram2d": [
           {
            "colorbar": {
             "outlinewidth": 0,
             "ticks": ""
            },
            "colorscale": [
             [
              0,
              "#0d0887"
             ],
             [
              0.1111111111111111,
              "#46039f"
             ],
             [
              0.2222222222222222,
              "#7201a8"
             ],
             [
              0.3333333333333333,
              "#9c179e"
             ],
             [
              0.4444444444444444,
              "#bd3786"
             ],
             [
              0.5555555555555556,
              "#d8576b"
             ],
             [
              0.6666666666666666,
              "#ed7953"
             ],
             [
              0.7777777777777778,
              "#fb9f3a"
             ],
             [
              0.8888888888888888,
              "#fdca26"
             ],
             [
              1,
              "#f0f921"
             ]
            ],
            "type": "histogram2d"
           }
          ],
          "histogram2dcontour": [
           {
            "colorbar": {
             "outlinewidth": 0,
             "ticks": ""
            },
            "colorscale": [
             [
              0,
              "#0d0887"
             ],
             [
              0.1111111111111111,
              "#46039f"
             ],
             [
              0.2222222222222222,
              "#7201a8"
             ],
             [
              0.3333333333333333,
              "#9c179e"
             ],
             [
              0.4444444444444444,
              "#bd3786"
             ],
             [
              0.5555555555555556,
              "#d8576b"
             ],
             [
              0.6666666666666666,
              "#ed7953"
             ],
             [
              0.7777777777777778,
              "#fb9f3a"
             ],
             [
              0.8888888888888888,
              "#fdca26"
             ],
             [
              1,
              "#f0f921"
             ]
            ],
            "type": "histogram2dcontour"
           }
          ],
          "mesh3d": [
           {
            "colorbar": {
             "outlinewidth": 0,
             "ticks": ""
            },
            "type": "mesh3d"
           }
          ],
          "parcoords": [
           {
            "line": {
             "colorbar": {
              "outlinewidth": 0,
              "ticks": ""
             }
            },
            "type": "parcoords"
           }
          ],
          "pie": [
           {
            "automargin": true,
            "type": "pie"
           }
          ],
          "scatter": [
           {
            "fillpattern": {
             "fillmode": "overlay",
             "size": 10,
             "solidity": 0.2
            },
            "type": "scatter"
           }
          ],
          "scatter3d": [
           {
            "line": {
             "colorbar": {
              "outlinewidth": 0,
              "ticks": ""
             }
            },
            "marker": {
             "colorbar": {
              "outlinewidth": 0,
              "ticks": ""
             }
            },
            "type": "scatter3d"
           }
          ],
          "scattercarpet": [
           {
            "marker": {
             "colorbar": {
              "outlinewidth": 0,
              "ticks": ""
             }
            },
            "type": "scattercarpet"
           }
          ],
          "scattergeo": [
           {
            "marker": {
             "colorbar": {
              "outlinewidth": 0,
              "ticks": ""
             }
            },
            "type": "scattergeo"
           }
          ],
          "scattergl": [
           {
            "marker": {
             "colorbar": {
              "outlinewidth": 0,
              "ticks": ""
             }
            },
            "type": "scattergl"
           }
          ],
          "scattermapbox": [
           {
            "marker": {
             "colorbar": {
              "outlinewidth": 0,
              "ticks": ""
             }
            },
            "type": "scattermapbox"
           }
          ],
          "scatterpolar": [
           {
            "marker": {
             "colorbar": {
              "outlinewidth": 0,
              "ticks": ""
             }
            },
            "type": "scatterpolar"
           }
          ],
          "scatterpolargl": [
           {
            "marker": {
             "colorbar": {
              "outlinewidth": 0,
              "ticks": ""
             }
            },
            "type": "scatterpolargl"
           }
          ],
          "scatterternary": [
           {
            "marker": {
             "colorbar": {
              "outlinewidth": 0,
              "ticks": ""
             }
            },
            "type": "scatterternary"
           }
          ],
          "surface": [
           {
            "colorbar": {
             "outlinewidth": 0,
             "ticks": ""
            },
            "colorscale": [
             [
              0,
              "#0d0887"
             ],
             [
              0.1111111111111111,
              "#46039f"
             ],
             [
              0.2222222222222222,
              "#7201a8"
             ],
             [
              0.3333333333333333,
              "#9c179e"
             ],
             [
              0.4444444444444444,
              "#bd3786"
             ],
             [
              0.5555555555555556,
              "#d8576b"
             ],
             [
              0.6666666666666666,
              "#ed7953"
             ],
             [
              0.7777777777777778,
              "#fb9f3a"
             ],
             [
              0.8888888888888888,
              "#fdca26"
             ],
             [
              1,
              "#f0f921"
             ]
            ],
            "type": "surface"
           }
          ],
          "table": [
           {
            "cells": {
             "fill": {
              "color": "#EBF0F8"
             },
             "line": {
              "color": "white"
             }
            },
            "header": {
             "fill": {
              "color": "#C8D4E3"
             },
             "line": {
              "color": "white"
             }
            },
            "type": "table"
           }
          ]
         },
         "layout": {
          "annotationdefaults": {
           "arrowcolor": "#2a3f5f",
           "arrowhead": 0,
           "arrowwidth": 1
          },
          "autotypenumbers": "strict",
          "coloraxis": {
           "colorbar": {
            "outlinewidth": 0,
            "ticks": ""
           }
          },
          "colorscale": {
           "diverging": [
            [
             0,
             "#8e0152"
            ],
            [
             0.1,
             "#c51b7d"
            ],
            [
             0.2,
             "#de77ae"
            ],
            [
             0.3,
             "#f1b6da"
            ],
            [
             0.4,
             "#fde0ef"
            ],
            [
             0.5,
             "#f7f7f7"
            ],
            [
             0.6,
             "#e6f5d0"
            ],
            [
             0.7,
             "#b8e186"
            ],
            [
             0.8,
             "#7fbc41"
            ],
            [
             0.9,
             "#4d9221"
            ],
            [
             1,
             "#276419"
            ]
           ],
           "sequential": [
            [
             0,
             "#0d0887"
            ],
            [
             0.1111111111111111,
             "#46039f"
            ],
            [
             0.2222222222222222,
             "#7201a8"
            ],
            [
             0.3333333333333333,
             "#9c179e"
            ],
            [
             0.4444444444444444,
             "#bd3786"
            ],
            [
             0.5555555555555556,
             "#d8576b"
            ],
            [
             0.6666666666666666,
             "#ed7953"
            ],
            [
             0.7777777777777778,
             "#fb9f3a"
            ],
            [
             0.8888888888888888,
             "#fdca26"
            ],
            [
             1,
             "#f0f921"
            ]
           ],
           "sequentialminus": [
            [
             0,
             "#0d0887"
            ],
            [
             0.1111111111111111,
             "#46039f"
            ],
            [
             0.2222222222222222,
             "#7201a8"
            ],
            [
             0.3333333333333333,
             "#9c179e"
            ],
            [
             0.4444444444444444,
             "#bd3786"
            ],
            [
             0.5555555555555556,
             "#d8576b"
            ],
            [
             0.6666666666666666,
             "#ed7953"
            ],
            [
             0.7777777777777778,
             "#fb9f3a"
            ],
            [
             0.8888888888888888,
             "#fdca26"
            ],
            [
             1,
             "#f0f921"
            ]
           ]
          },
          "colorway": [
           "#636efa",
           "#EF553B",
           "#00cc96",
           "#ab63fa",
           "#FFA15A",
           "#19d3f3",
           "#FF6692",
           "#B6E880",
           "#FF97FF",
           "#FECB52"
          ],
          "font": {
           "color": "#2a3f5f"
          },
          "geo": {
           "bgcolor": "white",
           "lakecolor": "white",
           "landcolor": "white",
           "showlakes": true,
           "showland": true,
           "subunitcolor": "#C8D4E3"
          },
          "hoverlabel": {
           "align": "left"
          },
          "hovermode": "closest",
          "mapbox": {
           "style": "light"
          },
          "paper_bgcolor": "white",
          "plot_bgcolor": "white",
          "polar": {
           "angularaxis": {
            "gridcolor": "#EBF0F8",
            "linecolor": "#EBF0F8",
            "ticks": ""
           },
           "bgcolor": "white",
           "radialaxis": {
            "gridcolor": "#EBF0F8",
            "linecolor": "#EBF0F8",
            "ticks": ""
           }
          },
          "scene": {
           "xaxis": {
            "backgroundcolor": "white",
            "gridcolor": "#DFE8F3",
            "gridwidth": 2,
            "linecolor": "#EBF0F8",
            "showbackground": true,
            "ticks": "",
            "zerolinecolor": "#EBF0F8"
           },
           "yaxis": {
            "backgroundcolor": "white",
            "gridcolor": "#DFE8F3",
            "gridwidth": 2,
            "linecolor": "#EBF0F8",
            "showbackground": true,
            "ticks": "",
            "zerolinecolor": "#EBF0F8"
           },
           "zaxis": {
            "backgroundcolor": "white",
            "gridcolor": "#DFE8F3",
            "gridwidth": 2,
            "linecolor": "#EBF0F8",
            "showbackground": true,
            "ticks": "",
            "zerolinecolor": "#EBF0F8"
           }
          },
          "shapedefaults": {
           "line": {
            "color": "#2a3f5f"
           }
          },
          "ternary": {
           "aaxis": {
            "gridcolor": "#DFE8F3",
            "linecolor": "#A2B1C6",
            "ticks": ""
           },
           "baxis": {
            "gridcolor": "#DFE8F3",
            "linecolor": "#A2B1C6",
            "ticks": ""
           },
           "bgcolor": "white",
           "caxis": {
            "gridcolor": "#DFE8F3",
            "linecolor": "#A2B1C6",
            "ticks": ""
           }
          },
          "title": {
           "x": 0.05
          },
          "xaxis": {
           "automargin": true,
           "gridcolor": "#EBF0F8",
           "linecolor": "#EBF0F8",
           "ticks": "",
           "title": {
            "standoff": 15
           },
           "zerolinecolor": "#EBF0F8",
           "zerolinewidth": 2
          },
          "yaxis": {
           "automargin": true,
           "gridcolor": "#EBF0F8",
           "linecolor": "#EBF0F8",
           "ticks": "",
           "title": {
            "standoff": 15
           },
           "zerolinecolor": "#EBF0F8",
           "zerolinewidth": 2
          }
         }
        },
        "title": {
         "text": "Performance Indicator vs Number of Panels Installed (Different Battery Capacities)"
        },
        "xaxis": {
         "tickvals": [
          500,
          600,
          700,
          800,
          900
         ],
         "title": {
          "text": "Number of Panels Installed"
         }
        },
        "yaxis": {
         "range": [
          0,
          1
         ],
         "tickformat": ".2f",
         "title": {
          "text": "Performance Indicator (Share of Produced Energy Consumed Locally)"
         }
        }
       }
      }
     },
     "metadata": {},
     "output_type": "display_data"
    },
    {
     "name": "stdout",
     "output_type": "stream",
     "text": [
      "Calculating monthly PV production for month: 1 with 500 panels and panel capacity 610W\n",
      "Calculating monthly PV production for month: 2 with 500 panels and panel capacity 610W\n",
      "Calculating monthly PV production for month: 3 with 500 panels and panel capacity 610W\n",
      "Calculating monthly PV production for month: 4 with 500 panels and panel capacity 610W\n",
      "Calculating monthly PV production for month: 5 with 500 panels and panel capacity 610W\n",
      "Calculating monthly PV production for month: 6 with 500 panels and panel capacity 610W\n",
      "Calculating monthly PV production for month: 7 with 500 panels and panel capacity 610W\n",
      "Calculating monthly PV production for month: 8 with 500 panels and panel capacity 610W\n",
      "Calculating monthly PV production for month: 9 with 500 panels and panel capacity 610W\n",
      "Calculating monthly PV production for month: 10 with 500 panels and panel capacity 610W\n",
      "Calculating monthly PV production for month: 11 with 500 panels and panel capacity 610W\n",
      "Calculating monthly PV production for month: 12 with 500 panels and panel capacity 610W\n",
      "Calculating monthly PV production for month: 1 with 500 panels and panel capacity 610W\n",
      "Calculating monthly PV production for month: 2 with 500 panels and panel capacity 610W\n",
      "Calculating monthly PV production for month: 3 with 500 panels and panel capacity 610W\n",
      "Calculating monthly PV production for month: 4 with 500 panels and panel capacity 610W\n",
      "Calculating monthly PV production for month: 5 with 500 panels and panel capacity 610W\n",
      "Calculating monthly PV production for month: 6 with 500 panels and panel capacity 610W\n",
      "Calculating monthly PV production for month: 7 with 500 panels and panel capacity 610W\n",
      "Calculating monthly PV production for month: 8 with 500 panels and panel capacity 610W\n",
      "Calculating monthly PV production for month: 9 with 500 panels and panel capacity 610W\n",
      "Calculating monthly PV production for month: 10 with 500 panels and panel capacity 610W\n",
      "Calculating monthly PV production for month: 11 with 500 panels and panel capacity 610W\n",
      "Calculating monthly PV production for month: 12 with 500 panels and panel capacity 610W\n",
      "Calculating monthly PV production for month: 1 with 500 panels and panel capacity 610W\n",
      "Calculating monthly PV production for month: 2 with 500 panels and panel capacity 610W\n",
      "Calculating monthly PV production for month: 3 with 500 panels and panel capacity 610W\n",
      "Calculating monthly PV production for month: 4 with 500 panels and panel capacity 610W\n",
      "Calculating monthly PV production for month: 5 with 500 panels and panel capacity 610W\n",
      "Calculating monthly PV production for month: 6 with 500 panels and panel capacity 610W\n",
      "Calculating monthly PV production for month: 7 with 500 panels and panel capacity 610W\n",
      "Calculating monthly PV production for month: 8 with 500 panels and panel capacity 610W\n",
      "Calculating monthly PV production for month: 9 with 500 panels and panel capacity 610W\n",
      "Calculating monthly PV production for month: 10 with 500 panels and panel capacity 610W\n",
      "Calculating monthly PV production for month: 11 with 500 panels and panel capacity 610W\n",
      "Calculating monthly PV production for month: 12 with 500 panels and panel capacity 610W\n",
      "Calculating monthly PV production for month: 1 with 500 panels and panel capacity 610W\n",
      "Calculating monthly PV production for month: 2 with 500 panels and panel capacity 610W\n",
      "Calculating monthly PV production for month: 3 with 500 panels and panel capacity 610W\n",
      "Calculating monthly PV production for month: 4 with 500 panels and panel capacity 610W\n",
      "Calculating monthly PV production for month: 5 with 500 panels and panel capacity 610W\n",
      "Calculating monthly PV production for month: 6 with 500 panels and panel capacity 610W\n",
      "Calculating monthly PV production for month: 7 with 500 panels and panel capacity 610W\n",
      "Calculating monthly PV production for month: 8 with 500 panels and panel capacity 610W\n",
      "Calculating monthly PV production for month: 9 with 500 panels and panel capacity 610W\n",
      "Calculating monthly PV production for month: 10 with 500 panels and panel capacity 610W\n",
      "Calculating monthly PV production for month: 11 with 500 panels and panel capacity 610W\n",
      "Calculating monthly PV production for month: 12 with 500 panels and panel capacity 610W\n",
      "Calculating monthly PV production for month: 1 with 500 panels and panel capacity 610W\n",
      "Calculating monthly PV production for month: 2 with 500 panels and panel capacity 610W\n",
      "Calculating monthly PV production for month: 3 with 500 panels and panel capacity 610W\n",
      "Calculating monthly PV production for month: 4 with 500 panels and panel capacity 610W\n",
      "Calculating monthly PV production for month: 5 with 500 panels and panel capacity 610W\n",
      "Calculating monthly PV production for month: 6 with 500 panels and panel capacity 610W\n",
      "Calculating monthly PV production for month: 7 with 500 panels and panel capacity 610W\n",
      "Calculating monthly PV production for month: 8 with 500 panels and panel capacity 610W\n",
      "Calculating monthly PV production for month: 9 with 500 panels and panel capacity 610W\n",
      "Calculating monthly PV production for month: 10 with 500 panels and panel capacity 610W\n",
      "Calculating monthly PV production for month: 11 with 500 panels and panel capacity 610W\n",
      "Calculating monthly PV production for month: 12 with 500 panels and panel capacity 610W\n",
      "Calculating monthly PV production for month: 1 with 600 panels and panel capacity 610W\n",
      "Calculating monthly PV production for month: 2 with 600 panels and panel capacity 610W\n",
      "Calculating monthly PV production for month: 3 with 600 panels and panel capacity 610W\n",
      "Calculating monthly PV production for month: 4 with 600 panels and panel capacity 610W\n",
      "Calculating monthly PV production for month: 5 with 600 panels and panel capacity 610W\n",
      "Calculating monthly PV production for month: 6 with 600 panels and panel capacity 610W\n",
      "Calculating monthly PV production for month: 7 with 600 panels and panel capacity 610W\n",
      "Calculating monthly PV production for month: 8 with 600 panels and panel capacity 610W\n",
      "Calculating monthly PV production for month: 9 with 600 panels and panel capacity 610W\n",
      "Calculating monthly PV production for month: 10 with 600 panels and panel capacity 610W\n",
      "Calculating monthly PV production for month: 11 with 600 panels and panel capacity 610W\n",
      "Calculating monthly PV production for month: 12 with 600 panels and panel capacity 610W\n",
      "Calculating monthly PV production for month: 1 with 600 panels and panel capacity 610W\n",
      "Calculating monthly PV production for month: 2 with 600 panels and panel capacity 610W\n",
      "Calculating monthly PV production for month: 3 with 600 panels and panel capacity 610W\n",
      "Calculating monthly PV production for month: 4 with 600 panels and panel capacity 610W\n",
      "Calculating monthly PV production for month: 5 with 600 panels and panel capacity 610W\n",
      "Calculating monthly PV production for month: 6 with 600 panels and panel capacity 610W\n",
      "Calculating monthly PV production for month: 7 with 600 panels and panel capacity 610W\n",
      "Calculating monthly PV production for month: 8 with 600 panels and panel capacity 610W\n",
      "Calculating monthly PV production for month: 9 with 600 panels and panel capacity 610W\n",
      "Calculating monthly PV production for month: 10 with 600 panels and panel capacity 610W\n",
      "Calculating monthly PV production for month: 11 with 600 panels and panel capacity 610W\n",
      "Calculating monthly PV production for month: 12 with 600 panels and panel capacity 610W\n",
      "Calculating monthly PV production for month: 1 with 600 panels and panel capacity 610W\n",
      "Calculating monthly PV production for month: 2 with 600 panels and panel capacity 610W\n",
      "Calculating monthly PV production for month: 3 with 600 panels and panel capacity 610W\n",
      "Calculating monthly PV production for month: 4 with 600 panels and panel capacity 610W\n",
      "Calculating monthly PV production for month: 5 with 600 panels and panel capacity 610W\n",
      "Calculating monthly PV production for month: 6 with 600 panels and panel capacity 610W\n",
      "Calculating monthly PV production for month: 7 with 600 panels and panel capacity 610W\n",
      "Calculating monthly PV production for month: 8 with 600 panels and panel capacity 610W\n",
      "Calculating monthly PV production for month: 9 with 600 panels and panel capacity 610W\n",
      "Calculating monthly PV production for month: 10 with 600 panels and panel capacity 610W\n",
      "Calculating monthly PV production for month: 11 with 600 panels and panel capacity 610W\n",
      "Calculating monthly PV production for month: 12 with 600 panels and panel capacity 610W\n",
      "Calculating monthly PV production for month: 1 with 600 panels and panel capacity 610W\n",
      "Calculating monthly PV production for month: 2 with 600 panels and panel capacity 610W\n",
      "Calculating monthly PV production for month: 3 with 600 panels and panel capacity 610W\n",
      "Calculating monthly PV production for month: 4 with 600 panels and panel capacity 610W\n",
      "Calculating monthly PV production for month: 5 with 600 panels and panel capacity 610W\n",
      "Calculating monthly PV production for month: 6 with 600 panels and panel capacity 610W\n",
      "Calculating monthly PV production for month: 7 with 600 panels and panel capacity 610W\n",
      "Calculating monthly PV production for month: 8 with 600 panels and panel capacity 610W\n",
      "Calculating monthly PV production for month: 9 with 600 panels and panel capacity 610W\n",
      "Calculating monthly PV production for month: 10 with 600 panels and panel capacity 610W\n",
      "Calculating monthly PV production for month: 11 with 600 panels and panel capacity 610W\n",
      "Calculating monthly PV production for month: 12 with 600 panels and panel capacity 610W\n",
      "Calculating monthly PV production for month: 1 with 600 panels and panel capacity 610W\n",
      "Calculating monthly PV production for month: 2 with 600 panels and panel capacity 610W\n",
      "Calculating monthly PV production for month: 3 with 600 panels and panel capacity 610W\n",
      "Calculating monthly PV production for month: 4 with 600 panels and panel capacity 610W\n",
      "Calculating monthly PV production for month: 5 with 600 panels and panel capacity 610W\n",
      "Calculating monthly PV production for month: 6 with 600 panels and panel capacity 610W\n",
      "Calculating monthly PV production for month: 7 with 600 panels and panel capacity 610W\n",
      "Calculating monthly PV production for month: 8 with 600 panels and panel capacity 610W\n",
      "Calculating monthly PV production for month: 9 with 600 panels and panel capacity 610W\n",
      "Calculating monthly PV production for month: 10 with 600 panels and panel capacity 610W\n",
      "Calculating monthly PV production for month: 11 with 600 panels and panel capacity 610W\n",
      "Calculating monthly PV production for month: 12 with 600 panels and panel capacity 610W\n",
      "Calculating monthly PV production for month: 1 with 700 panels and panel capacity 610W\n",
      "Calculating monthly PV production for month: 2 with 700 panels and panel capacity 610W\n",
      "Calculating monthly PV production for month: 3 with 700 panels and panel capacity 610W\n",
      "Calculating monthly PV production for month: 4 with 700 panels and panel capacity 610W\n",
      "Calculating monthly PV production for month: 5 with 700 panels and panel capacity 610W\n",
      "Calculating monthly PV production for month: 6 with 700 panels and panel capacity 610W\n",
      "Calculating monthly PV production for month: 7 with 700 panels and panel capacity 610W\n",
      "Calculating monthly PV production for month: 8 with 700 panels and panel capacity 610W\n",
      "Calculating monthly PV production for month: 9 with 700 panels and panel capacity 610W\n",
      "Calculating monthly PV production for month: 10 with 700 panels and panel capacity 610W\n",
      "Calculating monthly PV production for month: 11 with 700 panels and panel capacity 610W\n",
      "Calculating monthly PV production for month: 12 with 700 panels and panel capacity 610W\n",
      "Calculating monthly PV production for month: 1 with 700 panels and panel capacity 610W\n",
      "Calculating monthly PV production for month: 2 with 700 panels and panel capacity 610W\n",
      "Calculating monthly PV production for month: 3 with 700 panels and panel capacity 610W\n",
      "Calculating monthly PV production for month: 4 with 700 panels and panel capacity 610W\n",
      "Calculating monthly PV production for month: 5 with 700 panels and panel capacity 610W\n",
      "Calculating monthly PV production for month: 6 with 700 panels and panel capacity 610W\n",
      "Calculating monthly PV production for month: 7 with 700 panels and panel capacity 610W\n",
      "Calculating monthly PV production for month: 8 with 700 panels and panel capacity 610W\n",
      "Calculating monthly PV production for month: 9 with 700 panels and panel capacity 610W\n",
      "Calculating monthly PV production for month: 10 with 700 panels and panel capacity 610W\n",
      "Calculating monthly PV production for month: 11 with 700 panels and panel capacity 610W\n",
      "Calculating monthly PV production for month: 12 with 700 panels and panel capacity 610W\n",
      "Calculating monthly PV production for month: 1 with 700 panels and panel capacity 610W\n",
      "Calculating monthly PV production for month: 2 with 700 panels and panel capacity 610W\n",
      "Calculating monthly PV production for month: 3 with 700 panels and panel capacity 610W\n",
      "Calculating monthly PV production for month: 4 with 700 panels and panel capacity 610W\n",
      "Calculating monthly PV production for month: 5 with 700 panels and panel capacity 610W\n",
      "Calculating monthly PV production for month: 6 with 700 panels and panel capacity 610W\n",
      "Calculating monthly PV production for month: 7 with 700 panels and panel capacity 610W\n",
      "Calculating monthly PV production for month: 8 with 700 panels and panel capacity 610W\n",
      "Calculating monthly PV production for month: 9 with 700 panels and panel capacity 610W\n",
      "Calculating monthly PV production for month: 10 with 700 panels and panel capacity 610W\n",
      "Calculating monthly PV production for month: 11 with 700 panels and panel capacity 610W\n",
      "Calculating monthly PV production for month: 12 with 700 panels and panel capacity 610W\n",
      "Calculating monthly PV production for month: 1 with 700 panels and panel capacity 610W\n",
      "Calculating monthly PV production for month: 2 with 700 panels and panel capacity 610W\n",
      "Calculating monthly PV production for month: 3 with 700 panels and panel capacity 610W\n",
      "Calculating monthly PV production for month: 4 with 700 panels and panel capacity 610W\n",
      "Calculating monthly PV production for month: 5 with 700 panels and panel capacity 610W\n",
      "Calculating monthly PV production for month: 6 with 700 panels and panel capacity 610W\n",
      "Calculating monthly PV production for month: 7 with 700 panels and panel capacity 610W\n",
      "Calculating monthly PV production for month: 8 with 700 panels and panel capacity 610W\n",
      "Calculating monthly PV production for month: 9 with 700 panels and panel capacity 610W\n",
      "Calculating monthly PV production for month: 10 with 700 panels and panel capacity 610W\n",
      "Calculating monthly PV production for month: 11 with 700 panels and panel capacity 610W\n",
      "Calculating monthly PV production for month: 12 with 700 panels and panel capacity 610W\n",
      "Calculating monthly PV production for month: 1 with 700 panels and panel capacity 610W\n",
      "Calculating monthly PV production for month: 2 with 700 panels and panel capacity 610W\n",
      "Calculating monthly PV production for month: 3 with 700 panels and panel capacity 610W\n",
      "Calculating monthly PV production for month: 4 with 700 panels and panel capacity 610W\n",
      "Calculating monthly PV production for month: 5 with 700 panels and panel capacity 610W\n",
      "Calculating monthly PV production for month: 6 with 700 panels and panel capacity 610W\n",
      "Calculating monthly PV production for month: 7 with 700 panels and panel capacity 610W\n",
      "Calculating monthly PV production for month: 8 with 700 panels and panel capacity 610W\n",
      "Calculating monthly PV production for month: 9 with 700 panels and panel capacity 610W\n",
      "Calculating monthly PV production for month: 10 with 700 panels and panel capacity 610W\n",
      "Calculating monthly PV production for month: 11 with 700 panels and panel capacity 610W\n",
      "Calculating monthly PV production for month: 12 with 700 panels and panel capacity 610W\n",
      "Calculating monthly PV production for month: 1 with 800 panels and panel capacity 610W\n",
      "Calculating monthly PV production for month: 2 with 800 panels and panel capacity 610W\n",
      "Calculating monthly PV production for month: 3 with 800 panels and panel capacity 610W\n",
      "Calculating monthly PV production for month: 4 with 800 panels and panel capacity 610W\n",
      "Calculating monthly PV production for month: 5 with 800 panels and panel capacity 610W\n",
      "Calculating monthly PV production for month: 6 with 800 panels and panel capacity 610W\n",
      "Calculating monthly PV production for month: 7 with 800 panels and panel capacity 610W\n",
      "Calculating monthly PV production for month: 8 with 800 panels and panel capacity 610W\n",
      "Calculating monthly PV production for month: 9 with 800 panels and panel capacity 610W\n",
      "Calculating monthly PV production for month: 10 with 800 panels and panel capacity 610W\n",
      "Calculating monthly PV production for month: 11 with 800 panels and panel capacity 610W\n",
      "Calculating monthly PV production for month: 12 with 800 panels and panel capacity 610W\n",
      "Calculating monthly PV production for month: 1 with 800 panels and panel capacity 610W\n",
      "Calculating monthly PV production for month: 2 with 800 panels and panel capacity 610W\n",
      "Calculating monthly PV production for month: 3 with 800 panels and panel capacity 610W\n",
      "Calculating monthly PV production for month: 4 with 800 panels and panel capacity 610W\n",
      "Calculating monthly PV production for month: 5 with 800 panels and panel capacity 610W\n",
      "Calculating monthly PV production for month: 6 with 800 panels and panel capacity 610W\n",
      "Calculating monthly PV production for month: 7 with 800 panels and panel capacity 610W\n",
      "Calculating monthly PV production for month: 8 with 800 panels and panel capacity 610W\n",
      "Calculating monthly PV production for month: 9 with 800 panels and panel capacity 610W\n",
      "Calculating monthly PV production for month: 10 with 800 panels and panel capacity 610W\n",
      "Calculating monthly PV production for month: 11 with 800 panels and panel capacity 610W\n",
      "Calculating monthly PV production for month: 12 with 800 panels and panel capacity 610W\n",
      "Calculating monthly PV production for month: 1 with 800 panels and panel capacity 610W\n",
      "Calculating monthly PV production for month: 2 with 800 panels and panel capacity 610W\n",
      "Calculating monthly PV production for month: 3 with 800 panels and panel capacity 610W\n",
      "Calculating monthly PV production for month: 4 with 800 panels and panel capacity 610W\n",
      "Calculating monthly PV production for month: 5 with 800 panels and panel capacity 610W\n",
      "Calculating monthly PV production for month: 6 with 800 panels and panel capacity 610W\n",
      "Calculating monthly PV production for month: 7 with 800 panels and panel capacity 610W\n",
      "Calculating monthly PV production for month: 8 with 800 panels and panel capacity 610W\n",
      "Calculating monthly PV production for month: 9 with 800 panels and panel capacity 610W\n",
      "Calculating monthly PV production for month: 10 with 800 panels and panel capacity 610W\n",
      "Calculating monthly PV production for month: 11 with 800 panels and panel capacity 610W\n",
      "Calculating monthly PV production for month: 12 with 800 panels and panel capacity 610W\n",
      "Calculating monthly PV production for month: 1 with 800 panels and panel capacity 610W\n",
      "Calculating monthly PV production for month: 2 with 800 panels and panel capacity 610W\n",
      "Calculating monthly PV production for month: 3 with 800 panels and panel capacity 610W\n",
      "Calculating monthly PV production for month: 4 with 800 panels and panel capacity 610W\n",
      "Calculating monthly PV production for month: 5 with 800 panels and panel capacity 610W\n",
      "Calculating monthly PV production for month: 6 with 800 panels and panel capacity 610W\n",
      "Calculating monthly PV production for month: 7 with 800 panels and panel capacity 610W\n",
      "Calculating monthly PV production for month: 8 with 800 panels and panel capacity 610W\n",
      "Calculating monthly PV production for month: 9 with 800 panels and panel capacity 610W\n",
      "Calculating monthly PV production for month: 10 with 800 panels and panel capacity 610W\n",
      "Calculating monthly PV production for month: 11 with 800 panels and panel capacity 610W\n",
      "Calculating monthly PV production for month: 12 with 800 panels and panel capacity 610W\n",
      "Calculating monthly PV production for month: 1 with 800 panels and panel capacity 610W\n",
      "Calculating monthly PV production for month: 2 with 800 panels and panel capacity 610W\n",
      "Calculating monthly PV production for month: 3 with 800 panels and panel capacity 610W\n",
      "Calculating monthly PV production for month: 4 with 800 panels and panel capacity 610W\n",
      "Calculating monthly PV production for month: 5 with 800 panels and panel capacity 610W\n",
      "Calculating monthly PV production for month: 6 with 800 panels and panel capacity 610W\n",
      "Calculating monthly PV production for month: 7 with 800 panels and panel capacity 610W\n",
      "Calculating monthly PV production for month: 8 with 800 panels and panel capacity 610W\n",
      "Calculating monthly PV production for month: 9 with 800 panels and panel capacity 610W\n",
      "Calculating monthly PV production for month: 10 with 800 panels and panel capacity 610W\n",
      "Calculating monthly PV production for month: 11 with 800 panels and panel capacity 610W\n",
      "Calculating monthly PV production for month: 12 with 800 panels and panel capacity 610W\n",
      "Calculating monthly PV production for month: 1 with 900 panels and panel capacity 610W\n",
      "Calculating monthly PV production for month: 2 with 900 panels and panel capacity 610W\n",
      "Calculating monthly PV production for month: 3 with 900 panels and panel capacity 610W\n",
      "Calculating monthly PV production for month: 4 with 900 panels and panel capacity 610W\n",
      "Calculating monthly PV production for month: 5 with 900 panels and panel capacity 610W\n",
      "Calculating monthly PV production for month: 6 with 900 panels and panel capacity 610W\n",
      "Calculating monthly PV production for month: 7 with 900 panels and panel capacity 610W\n",
      "Calculating monthly PV production for month: 8 with 900 panels and panel capacity 610W\n",
      "Calculating monthly PV production for month: 9 with 900 panels and panel capacity 610W\n",
      "Calculating monthly PV production for month: 10 with 900 panels and panel capacity 610W\n",
      "Calculating monthly PV production for month: 11 with 900 panels and panel capacity 610W\n",
      "Calculating monthly PV production for month: 12 with 900 panels and panel capacity 610W\n",
      "Calculating monthly PV production for month: 1 with 900 panels and panel capacity 610W\n",
      "Calculating monthly PV production for month: 2 with 900 panels and panel capacity 610W\n",
      "Calculating monthly PV production for month: 3 with 900 panels and panel capacity 610W\n",
      "Calculating monthly PV production for month: 4 with 900 panels and panel capacity 610W\n",
      "Calculating monthly PV production for month: 5 with 900 panels and panel capacity 610W\n",
      "Calculating monthly PV production for month: 6 with 900 panels and panel capacity 610W\n",
      "Calculating monthly PV production for month: 7 with 900 panels and panel capacity 610W\n",
      "Calculating monthly PV production for month: 8 with 900 panels and panel capacity 610W\n",
      "Calculating monthly PV production for month: 9 with 900 panels and panel capacity 610W\n",
      "Calculating monthly PV production for month: 10 with 900 panels and panel capacity 610W\n",
      "Calculating monthly PV production for month: 11 with 900 panels and panel capacity 610W\n",
      "Calculating monthly PV production for month: 12 with 900 panels and panel capacity 610W\n",
      "Calculating monthly PV production for month: 1 with 900 panels and panel capacity 610W\n",
      "Calculating monthly PV production for month: 2 with 900 panels and panel capacity 610W\n",
      "Calculating monthly PV production for month: 3 with 900 panels and panel capacity 610W\n",
      "Calculating monthly PV production for month: 4 with 900 panels and panel capacity 610W\n",
      "Calculating monthly PV production for month: 5 with 900 panels and panel capacity 610W\n",
      "Calculating monthly PV production for month: 6 with 900 panels and panel capacity 610W\n",
      "Calculating monthly PV production for month: 7 with 900 panels and panel capacity 610W\n",
      "Calculating monthly PV production for month: 8 with 900 panels and panel capacity 610W\n",
      "Calculating monthly PV production for month: 9 with 900 panels and panel capacity 610W\n",
      "Calculating monthly PV production for month: 10 with 900 panels and panel capacity 610W\n",
      "Calculating monthly PV production for month: 11 with 900 panels and panel capacity 610W\n",
      "Calculating monthly PV production for month: 12 with 900 panels and panel capacity 610W\n",
      "Calculating monthly PV production for month: 1 with 900 panels and panel capacity 610W\n",
      "Calculating monthly PV production for month: 2 with 900 panels and panel capacity 610W\n",
      "Calculating monthly PV production for month: 3 with 900 panels and panel capacity 610W\n",
      "Calculating monthly PV production for month: 4 with 900 panels and panel capacity 610W\n",
      "Calculating monthly PV production for month: 5 with 900 panels and panel capacity 610W\n",
      "Calculating monthly PV production for month: 6 with 900 panels and panel capacity 610W\n",
      "Calculating monthly PV production for month: 7 with 900 panels and panel capacity 610W\n",
      "Calculating monthly PV production for month: 8 with 900 panels and panel capacity 610W\n",
      "Calculating monthly PV production for month: 9 with 900 panels and panel capacity 610W\n",
      "Calculating monthly PV production for month: 10 with 900 panels and panel capacity 610W\n",
      "Calculating monthly PV production for month: 11 with 900 panels and panel capacity 610W\n",
      "Calculating monthly PV production for month: 12 with 900 panels and panel capacity 610W\n",
      "Calculating monthly PV production for month: 1 with 900 panels and panel capacity 610W\n",
      "Calculating monthly PV production for month: 2 with 900 panels and panel capacity 610W\n",
      "Calculating monthly PV production for month: 3 with 900 panels and panel capacity 610W\n",
      "Calculating monthly PV production for month: 4 with 900 panels and panel capacity 610W\n",
      "Calculating monthly PV production for month: 5 with 900 panels and panel capacity 610W\n",
      "Calculating monthly PV production for month: 6 with 900 panels and panel capacity 610W\n",
      "Calculating monthly PV production for month: 7 with 900 panels and panel capacity 610W\n",
      "Calculating monthly PV production for month: 8 with 900 panels and panel capacity 610W\n",
      "Calculating monthly PV production for month: 9 with 900 panels and panel capacity 610W\n",
      "Calculating monthly PV production for month: 10 with 900 panels and panel capacity 610W\n",
      "Calculating monthly PV production for month: 11 with 900 panels and panel capacity 610W\n",
      "Calculating monthly PV production for month: 12 with 900 panels and panel capacity 610W\n"
     ]
    },
    {
     "data": {
      "application/vnd.plotly.v1+json": {
       "config": {
        "plotlyServerURL": "https://plot.ly"
       },
       "data": [
        {
         "line": {
          "dash": "solid"
         },
         "mode": "lines+markers",
         "name": "Performance Indicator with 500 Panels",
         "type": "scatter",
         "x": [
          0,
          10,
          30,
          60,
          100
         ],
         "y": [
          0.6838219513051491,
          0.8388919046490853,
          0.9553141731105712,
          0.9664480791976611,
          0.9705797983207869
         ]
        },
        {
         "line": {
          "dash": "solid"
         },
         "mode": "lines+markers",
         "name": "Performance Indicator with 600 Panels",
         "type": "scatter",
         "x": [
          0,
          10,
          30,
          60,
          100
         ],
         "y": [
          0.6286515510987418,
          0.7789626230685425,
          0.9255565123033002,
          0.951520707157757,
          0.95703446215437
         ]
        },
        {
         "line": {
          "dash": "solid"
         },
         "mode": "lines+markers",
         "name": "Performance Indicator with 700 Panels",
         "type": "scatter",
         "x": [
          0,
          10,
          30,
          60,
          100
         ],
         "y": [
          0.5805404449397724,
          0.7226795243192466,
          0.889733048093977,
          0.9276307119781904,
          0.937384995670484
         ]
        },
        {
         "line": {
          "dash": "solid"
         },
         "mode": "lines+markers",
         "name": "Performance Indicator with 800 Panels",
         "type": "scatter",
         "x": [
          0,
          10,
          30,
          60,
          100
         ],
         "y": [
          0.5387222085474158,
          0.6714946679488245,
          0.846061304708323,
          0.8835443038028511,
          0.8952384693921345
         ]
        },
        {
         "line": {
          "dash": "solid"
         },
         "mode": "lines+markers",
         "name": "Performance Indicator with 900 Panels",
         "type": "scatter",
         "x": [
          0,
          10,
          30,
          60,
          100
         ],
         "y": [
          0.5026405102693378,
          0.626352450706689,
          0.8009854430243356,
          0.8366338727015187,
          0.8467435378498338
         ]
        }
       ],
       "layout": {
        "height": 600,
        "template": {
         "data": {
          "bar": [
           {
            "error_x": {
             "color": "#2a3f5f"
            },
            "error_y": {
             "color": "#2a3f5f"
            },
            "marker": {
             "line": {
              "color": "white",
              "width": 0.5
             },
             "pattern": {
              "fillmode": "overlay",
              "size": 10,
              "solidity": 0.2
             }
            },
            "type": "bar"
           }
          ],
          "barpolar": [
           {
            "marker": {
             "line": {
              "color": "white",
              "width": 0.5
             },
             "pattern": {
              "fillmode": "overlay",
              "size": 10,
              "solidity": 0.2
             }
            },
            "type": "barpolar"
           }
          ],
          "carpet": [
           {
            "aaxis": {
             "endlinecolor": "#2a3f5f",
             "gridcolor": "#C8D4E3",
             "linecolor": "#C8D4E3",
             "minorgridcolor": "#C8D4E3",
             "startlinecolor": "#2a3f5f"
            },
            "baxis": {
             "endlinecolor": "#2a3f5f",
             "gridcolor": "#C8D4E3",
             "linecolor": "#C8D4E3",
             "minorgridcolor": "#C8D4E3",
             "startlinecolor": "#2a3f5f"
            },
            "type": "carpet"
           }
          ],
          "choropleth": [
           {
            "colorbar": {
             "outlinewidth": 0,
             "ticks": ""
            },
            "type": "choropleth"
           }
          ],
          "contour": [
           {
            "colorbar": {
             "outlinewidth": 0,
             "ticks": ""
            },
            "colorscale": [
             [
              0,
              "#0d0887"
             ],
             [
              0.1111111111111111,
              "#46039f"
             ],
             [
              0.2222222222222222,
              "#7201a8"
             ],
             [
              0.3333333333333333,
              "#9c179e"
             ],
             [
              0.4444444444444444,
              "#bd3786"
             ],
             [
              0.5555555555555556,
              "#d8576b"
             ],
             [
              0.6666666666666666,
              "#ed7953"
             ],
             [
              0.7777777777777778,
              "#fb9f3a"
             ],
             [
              0.8888888888888888,
              "#fdca26"
             ],
             [
              1,
              "#f0f921"
             ]
            ],
            "type": "contour"
           }
          ],
          "contourcarpet": [
           {
            "colorbar": {
             "outlinewidth": 0,
             "ticks": ""
            },
            "type": "contourcarpet"
           }
          ],
          "heatmap": [
           {
            "colorbar": {
             "outlinewidth": 0,
             "ticks": ""
            },
            "colorscale": [
             [
              0,
              "#0d0887"
             ],
             [
              0.1111111111111111,
              "#46039f"
             ],
             [
              0.2222222222222222,
              "#7201a8"
             ],
             [
              0.3333333333333333,
              "#9c179e"
             ],
             [
              0.4444444444444444,
              "#bd3786"
             ],
             [
              0.5555555555555556,
              "#d8576b"
             ],
             [
              0.6666666666666666,
              "#ed7953"
             ],
             [
              0.7777777777777778,
              "#fb9f3a"
             ],
             [
              0.8888888888888888,
              "#fdca26"
             ],
             [
              1,
              "#f0f921"
             ]
            ],
            "type": "heatmap"
           }
          ],
          "heatmapgl": [
           {
            "colorbar": {
             "outlinewidth": 0,
             "ticks": ""
            },
            "colorscale": [
             [
              0,
              "#0d0887"
             ],
             [
              0.1111111111111111,
              "#46039f"
             ],
             [
              0.2222222222222222,
              "#7201a8"
             ],
             [
              0.3333333333333333,
              "#9c179e"
             ],
             [
              0.4444444444444444,
              "#bd3786"
             ],
             [
              0.5555555555555556,
              "#d8576b"
             ],
             [
              0.6666666666666666,
              "#ed7953"
             ],
             [
              0.7777777777777778,
              "#fb9f3a"
             ],
             [
              0.8888888888888888,
              "#fdca26"
             ],
             [
              1,
              "#f0f921"
             ]
            ],
            "type": "heatmapgl"
           }
          ],
          "histogram": [
           {
            "marker": {
             "pattern": {
              "fillmode": "overlay",
              "size": 10,
              "solidity": 0.2
             }
            },
            "type": "histogram"
           }
          ],
          "histogram2d": [
           {
            "colorbar": {
             "outlinewidth": 0,
             "ticks": ""
            },
            "colorscale": [
             [
              0,
              "#0d0887"
             ],
             [
              0.1111111111111111,
              "#46039f"
             ],
             [
              0.2222222222222222,
              "#7201a8"
             ],
             [
              0.3333333333333333,
              "#9c179e"
             ],
             [
              0.4444444444444444,
              "#bd3786"
             ],
             [
              0.5555555555555556,
              "#d8576b"
             ],
             [
              0.6666666666666666,
              "#ed7953"
             ],
             [
              0.7777777777777778,
              "#fb9f3a"
             ],
             [
              0.8888888888888888,
              "#fdca26"
             ],
             [
              1,
              "#f0f921"
             ]
            ],
            "type": "histogram2d"
           }
          ],
          "histogram2dcontour": [
           {
            "colorbar": {
             "outlinewidth": 0,
             "ticks": ""
            },
            "colorscale": [
             [
              0,
              "#0d0887"
             ],
             [
              0.1111111111111111,
              "#46039f"
             ],
             [
              0.2222222222222222,
              "#7201a8"
             ],
             [
              0.3333333333333333,
              "#9c179e"
             ],
             [
              0.4444444444444444,
              "#bd3786"
             ],
             [
              0.5555555555555556,
              "#d8576b"
             ],
             [
              0.6666666666666666,
              "#ed7953"
             ],
             [
              0.7777777777777778,
              "#fb9f3a"
             ],
             [
              0.8888888888888888,
              "#fdca26"
             ],
             [
              1,
              "#f0f921"
             ]
            ],
            "type": "histogram2dcontour"
           }
          ],
          "mesh3d": [
           {
            "colorbar": {
             "outlinewidth": 0,
             "ticks": ""
            },
            "type": "mesh3d"
           }
          ],
          "parcoords": [
           {
            "line": {
             "colorbar": {
              "outlinewidth": 0,
              "ticks": ""
             }
            },
            "type": "parcoords"
           }
          ],
          "pie": [
           {
            "automargin": true,
            "type": "pie"
           }
          ],
          "scatter": [
           {
            "fillpattern": {
             "fillmode": "overlay",
             "size": 10,
             "solidity": 0.2
            },
            "type": "scatter"
           }
          ],
          "scatter3d": [
           {
            "line": {
             "colorbar": {
              "outlinewidth": 0,
              "ticks": ""
             }
            },
            "marker": {
             "colorbar": {
              "outlinewidth": 0,
              "ticks": ""
             }
            },
            "type": "scatter3d"
           }
          ],
          "scattercarpet": [
           {
            "marker": {
             "colorbar": {
              "outlinewidth": 0,
              "ticks": ""
             }
            },
            "type": "scattercarpet"
           }
          ],
          "scattergeo": [
           {
            "marker": {
             "colorbar": {
              "outlinewidth": 0,
              "ticks": ""
             }
            },
            "type": "scattergeo"
           }
          ],
          "scattergl": [
           {
            "marker": {
             "colorbar": {
              "outlinewidth": 0,
              "ticks": ""
             }
            },
            "type": "scattergl"
           }
          ],
          "scattermapbox": [
           {
            "marker": {
             "colorbar": {
              "outlinewidth": 0,
              "ticks": ""
             }
            },
            "type": "scattermapbox"
           }
          ],
          "scatterpolar": [
           {
            "marker": {
             "colorbar": {
              "outlinewidth": 0,
              "ticks": ""
             }
            },
            "type": "scatterpolar"
           }
          ],
          "scatterpolargl": [
           {
            "marker": {
             "colorbar": {
              "outlinewidth": 0,
              "ticks": ""
             }
            },
            "type": "scatterpolargl"
           }
          ],
          "scatterternary": [
           {
            "marker": {
             "colorbar": {
              "outlinewidth": 0,
              "ticks": ""
             }
            },
            "type": "scatterternary"
           }
          ],
          "surface": [
           {
            "colorbar": {
             "outlinewidth": 0,
             "ticks": ""
            },
            "colorscale": [
             [
              0,
              "#0d0887"
             ],
             [
              0.1111111111111111,
              "#46039f"
             ],
             [
              0.2222222222222222,
              "#7201a8"
             ],
             [
              0.3333333333333333,
              "#9c179e"
             ],
             [
              0.4444444444444444,
              "#bd3786"
             ],
             [
              0.5555555555555556,
              "#d8576b"
             ],
             [
              0.6666666666666666,
              "#ed7953"
             ],
             [
              0.7777777777777778,
              "#fb9f3a"
             ],
             [
              0.8888888888888888,
              "#fdca26"
             ],
             [
              1,
              "#f0f921"
             ]
            ],
            "type": "surface"
           }
          ],
          "table": [
           {
            "cells": {
             "fill": {
              "color": "#EBF0F8"
             },
             "line": {
              "color": "white"
             }
            },
            "header": {
             "fill": {
              "color": "#C8D4E3"
             },
             "line": {
              "color": "white"
             }
            },
            "type": "table"
           }
          ]
         },
         "layout": {
          "annotationdefaults": {
           "arrowcolor": "#2a3f5f",
           "arrowhead": 0,
           "arrowwidth": 1
          },
          "autotypenumbers": "strict",
          "coloraxis": {
           "colorbar": {
            "outlinewidth": 0,
            "ticks": ""
           }
          },
          "colorscale": {
           "diverging": [
            [
             0,
             "#8e0152"
            ],
            [
             0.1,
             "#c51b7d"
            ],
            [
             0.2,
             "#de77ae"
            ],
            [
             0.3,
             "#f1b6da"
            ],
            [
             0.4,
             "#fde0ef"
            ],
            [
             0.5,
             "#f7f7f7"
            ],
            [
             0.6,
             "#e6f5d0"
            ],
            [
             0.7,
             "#b8e186"
            ],
            [
             0.8,
             "#7fbc41"
            ],
            [
             0.9,
             "#4d9221"
            ],
            [
             1,
             "#276419"
            ]
           ],
           "sequential": [
            [
             0,
             "#0d0887"
            ],
            [
             0.1111111111111111,
             "#46039f"
            ],
            [
             0.2222222222222222,
             "#7201a8"
            ],
            [
             0.3333333333333333,
             "#9c179e"
            ],
            [
             0.4444444444444444,
             "#bd3786"
            ],
            [
             0.5555555555555556,
             "#d8576b"
            ],
            [
             0.6666666666666666,
             "#ed7953"
            ],
            [
             0.7777777777777778,
             "#fb9f3a"
            ],
            [
             0.8888888888888888,
             "#fdca26"
            ],
            [
             1,
             "#f0f921"
            ]
           ],
           "sequentialminus": [
            [
             0,
             "#0d0887"
            ],
            [
             0.1111111111111111,
             "#46039f"
            ],
            [
             0.2222222222222222,
             "#7201a8"
            ],
            [
             0.3333333333333333,
             "#9c179e"
            ],
            [
             0.4444444444444444,
             "#bd3786"
            ],
            [
             0.5555555555555556,
             "#d8576b"
            ],
            [
             0.6666666666666666,
             "#ed7953"
            ],
            [
             0.7777777777777778,
             "#fb9f3a"
            ],
            [
             0.8888888888888888,
             "#fdca26"
            ],
            [
             1,
             "#f0f921"
            ]
           ]
          },
          "colorway": [
           "#636efa",
           "#EF553B",
           "#00cc96",
           "#ab63fa",
           "#FFA15A",
           "#19d3f3",
           "#FF6692",
           "#B6E880",
           "#FF97FF",
           "#FECB52"
          ],
          "font": {
           "color": "#2a3f5f"
          },
          "geo": {
           "bgcolor": "white",
           "lakecolor": "white",
           "landcolor": "white",
           "showlakes": true,
           "showland": true,
           "subunitcolor": "#C8D4E3"
          },
          "hoverlabel": {
           "align": "left"
          },
          "hovermode": "closest",
          "mapbox": {
           "style": "light"
          },
          "paper_bgcolor": "white",
          "plot_bgcolor": "white",
          "polar": {
           "angularaxis": {
            "gridcolor": "#EBF0F8",
            "linecolor": "#EBF0F8",
            "ticks": ""
           },
           "bgcolor": "white",
           "radialaxis": {
            "gridcolor": "#EBF0F8",
            "linecolor": "#EBF0F8",
            "ticks": ""
           }
          },
          "scene": {
           "xaxis": {
            "backgroundcolor": "white",
            "gridcolor": "#DFE8F3",
            "gridwidth": 2,
            "linecolor": "#EBF0F8",
            "showbackground": true,
            "ticks": "",
            "zerolinecolor": "#EBF0F8"
           },
           "yaxis": {
            "backgroundcolor": "white",
            "gridcolor": "#DFE8F3",
            "gridwidth": 2,
            "linecolor": "#EBF0F8",
            "showbackground": true,
            "ticks": "",
            "zerolinecolor": "#EBF0F8"
           },
           "zaxis": {
            "backgroundcolor": "white",
            "gridcolor": "#DFE8F3",
            "gridwidth": 2,
            "linecolor": "#EBF0F8",
            "showbackground": true,
            "ticks": "",
            "zerolinecolor": "#EBF0F8"
           }
          },
          "shapedefaults": {
           "line": {
            "color": "#2a3f5f"
           }
          },
          "ternary": {
           "aaxis": {
            "gridcolor": "#DFE8F3",
            "linecolor": "#A2B1C6",
            "ticks": ""
           },
           "baxis": {
            "gridcolor": "#DFE8F3",
            "linecolor": "#A2B1C6",
            "ticks": ""
           },
           "bgcolor": "white",
           "caxis": {
            "gridcolor": "#DFE8F3",
            "linecolor": "#A2B1C6",
            "ticks": ""
           }
          },
          "title": {
           "x": 0.05
          },
          "xaxis": {
           "automargin": true,
           "gridcolor": "#EBF0F8",
           "linecolor": "#EBF0F8",
           "ticks": "",
           "title": {
            "standoff": 15
           },
           "zerolinecolor": "#EBF0F8",
           "zerolinewidth": 2
          },
          "yaxis": {
           "automargin": true,
           "gridcolor": "#EBF0F8",
           "linecolor": "#EBF0F8",
           "ticks": "",
           "title": {
            "standoff": 15
           },
           "zerolinecolor": "#EBF0F8",
           "zerolinewidth": 2
          }
         }
        },
        "title": {
         "text": "Performance Indicator vs Number of Batteries (Different Numbers of Panels Installed)"
        },
        "xaxis": {
         "tickvals": [
          0,
          10,
          30,
          60,
          100
         ],
         "title": {
          "text": "Number of Batteries Installed"
         }
        },
        "yaxis": {
         "range": [
          0,
          1
         ],
         "tickformat": ".2f",
         "title": {
          "text": "Performance Indicator (Share of Produced Energy Consumed Locally)"
         }
        }
       }
      }
     },
     "metadata": {},
     "output_type": "display_data"
    }
   ],
   "source": [
    "# Panel options and number of batteries options\n",
    "panel_options = [500, 600, 700, 800, 900]\n",
    "battery_options = [0, 10, 30, 60, 100]  # Number of batteries to evaluate\n",
    "\n",
    "# Function to calculate the performance indicator for the scenario with different numbers of batteries\n",
    "def calculate_performance_indicator(num_panels, filtered_data, num_batteries):\n",
    "    \"\"\"\n",
    "    Calculate performance indicator for a given number of batteries.\n",
    "    \n",
    "    Parameters:\n",
    "    - num_panels: Number of solar panels installed.\n",
    "    - filtered_data: Yearly filtered data of building consumption.\n",
    "    - num_batteries: Number of batteries installed.\n",
    "\n",
    "    Returns:\n",
    "    - performance_indicator: Ratio of locally consumed PV energy to the total PV production.\n",
    "    \"\"\"\n",
    "    total_pv_production_used = 0\n",
    "    total_battery_energy_used = 0\n",
    "    annual_pv_production = 0\n",
    "    battery_soc = sas.initial_soc  # Start with initial state of charge (SOC)\n",
    "    battery_capacity = sas.battery_capacity_per_unit * num_batteries  # Total battery capacity in kWh\n",
    "\n",
    "    # Calculate the PV production per month and accumulate total PV production and total used\n",
    "    for month in range(1, 13):\n",
    "        pv_production_series = sas.calculate_monthly_pv_production(month, num_panels, sas.panel_capacity)\n",
    "        monthly_data = filtered_data[filtered_data.index.month == month]\n",
    "\n",
    "        for timestamp, row in monthly_data.iterrows():\n",
    "            consumption = row['Consumption']\n",
    "            pv_production = pv_production_series[timestamp.hour]\n",
    "            annual_pv_production += pv_production\n",
    "\n",
    "            if pv_production >= consumption:\n",
    "                # PV is more than enough to meet demand\n",
    "                excess_energy = pv_production - consumption\n",
    "                total_pv_production_used += consumption\n",
    "\n",
    "                # Charge the battery if there's any excess energy and SOC is below 100%\n",
    "                if num_batteries > 0 and battery_soc < 100:\n",
    "                    charge_energy = min(excess_energy * sas.converter_efficiency, (100 - battery_soc) / 100 * battery_capacity)\n",
    "                    battery_soc += (charge_energy / battery_capacity) * 100  # Update SOC\n",
    "            else:\n",
    "                # PV is not enough to meet demand\n",
    "                deficit = consumption - pv_production\n",
    "                total_pv_production_used += pv_production\n",
    "\n",
    "                # Use battery to fulfill the remaining load if SOC is above 20%\n",
    "                if num_batteries > 0 and battery_soc > 20:\n",
    "                    discharge_energy = min(deficit, (battery_soc - 20) / 100 * battery_capacity)\n",
    "                    total_battery_energy_used += discharge_energy\n",
    "                    battery_soc -= (discharge_energy / battery_capacity) * 100  # Update SOC\n",
    "\n",
    "    # Performance Indicator: (PV used locally + Battery supplied) / Total PV production\n",
    "    performance_indicator = (total_pv_production_used + total_battery_energy_used) / annual_pv_production if annual_pv_production > 0 else 0\n",
    "    return performance_indicator\n",
    "\n",
    "# Calculate the Performance Indicator for each number of panels with different battery capacities\n",
    "performance_indicators = {b: [] for b in battery_options}\n",
    "\n",
    "for num_batteries in battery_options:\n",
    "    for num_panels in panel_options:\n",
    "        performance_indicator = calculate_performance_indicator(num_panels, filtered_data, num_batteries)\n",
    "        performance_indicators[num_batteries].append(performance_indicator)\n",
    "\n",
    "# Generate plot of Performance Indicator vs Number of Panels for different battery capacities\n",
    "fig = go.Figure()\n",
    "\n",
    "# Add line traces for different numbers of batteries\n",
    "for num_batteries in battery_options:\n",
    "    fig.add_trace(go.Scatter(\n",
    "        x=panel_options,\n",
    "        y=performance_indicators[num_batteries],\n",
    "        mode='lines+markers',\n",
    "        name=f'{num_batteries} Batteries',\n",
    "        line=dict(dash='solid' if num_batteries == 0 else 'dash')\n",
    "    ))\n",
    "\n",
    "# Update plot layout\n",
    "fig.update_layout(\n",
    "    title='Performance Indicator vs Number of Panels Installed (Different Battery Capacities)',\n",
    "    xaxis_title='Number of Panels Installed',\n",
    "    yaxis_title='Performance Indicator (Share of Produced Energy Consumed Locally)',\n",
    "    height=600,\n",
    "    xaxis=dict(tickvals=panel_options),\n",
    "    yaxis=dict(range=[0, 1], tickformat='.2f'),\n",
    "    template='plotly_white'\n",
    ")\n",
    "\n",
    "# Show plot\n",
    "fig.show()\n",
    "\n",
    "# Generate plot of Performance Indicator vs Number of Batteries for different numbers of panels\n",
    "fig3 = go.Figure()\n",
    "\n",
    "# Calculate Performance Indicator vs Number of Batteries for each number of panels\n",
    "for num_panels in panel_options:\n",
    "    performance_indicators_vs_batteries = []\n",
    "\n",
    "    for num_batteries in battery_options:\n",
    "        performance_indicator = calculate_performance_indicator(num_panels, filtered_data, num_batteries)\n",
    "        performance_indicators_vs_batteries.append(performance_indicator)\n",
    "\n",
    "    # Add line trace for performance indicator vs number of batteries for each number of panels\n",
    "    fig3.add_trace(go.Scatter(\n",
    "        x=battery_options,\n",
    "        y=performance_indicators_vs_batteries,\n",
    "        mode='lines+markers',\n",
    "        name=f'Performance Indicator with {num_panels} Panels',\n",
    "        line=dict(dash='solid')\n",
    "    ))\n",
    "\n",
    "# Update plot layout\n",
    "fig3.update_layout(\n",
    "    title='Performance Indicator vs Number of Batteries (Different Numbers of Panels Installed)',\n",
    "    xaxis_title='Number of Batteries Installed',\n",
    "    yaxis_title='Performance Indicator (Share of Produced Energy Consumed Locally)',\n",
    "    height=600,\n",
    "    xaxis=dict(tickvals=battery_options),\n",
    "    yaxis=dict(range=[0, 1], tickformat='.2f'),\n",
    "    template='plotly_white'\n",
    ")\n",
    "\n",
    "# Show plot\n",
    "fig3.show()\n"
   ]
  }
 ],
 "metadata": {
  "kernelspec": {
   "display_name": "base",
   "language": "python",
   "name": "python3"
  },
  "language_info": {
   "codemirror_mode": {
    "name": "ipython",
    "version": 3
   },
   "file_extension": ".py",
   "mimetype": "text/x-python",
   "name": "python",
   "nbconvert_exporter": "python",
   "pygments_lexer": "ipython3",
   "version": "3.11.5"
  }
 },
 "nbformat": 4,
 "nbformat_minor": 2
}
